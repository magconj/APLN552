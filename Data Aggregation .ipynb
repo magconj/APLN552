{
 "cells": [
  {
   "cell_type": "code",
   "execution_count": 1,
   "id": "39670dd0",
   "metadata": {},
   "outputs": [],
   "source": [
    "import pandas as pd \n",
    "import numpy as np "
   ]
  },
  {
   "cell_type": "code",
   "execution_count": 2,
   "id": "95e06081",
   "metadata": {},
   "outputs": [],
   "source": [
    "#Golden Age\n",
    "Ovid = pd.read_csv('datasets/Ovid.csv')\n",
    "Horace = pd.read_csv('datasets/Horace.csv')\n",
    "Virgil = pd.read_csv('datasets/Virgil.csv')\n",
    "Catullus = pd.read_csv('datasets/Catullus.csv')\n",
    "#Silver\n",
    "Seneca = pd.read_csv('datasets/Seneca.csv')\n",
    "Tacitus= pd.read_csv('datasets/Tacitus.csv')\n",
    "Juvenal= pd.read_csv('datasets/Juvenal.csv')\n",
    "Martial = pd.read_csv('datasets/Martial.csv')\n",
    "#Patristic\n",
    "Tertullian = pd.read_csv('datasets/Tertullian.csv')\n",
    "Augustine = pd.read_csv('datasets/St.Augustine.csv')\n",
    "Ausonius = pd.read_csv('datasets/Ausonius.csv')"
   ]
  },
  {
   "cell_type": "code",
   "execution_count": 3,
   "id": "e6b9226b",
   "metadata": {},
   "outputs": [],
   "source": [
    "gold= pd.concat([Ovid, Horace,Virgil,Catullus], ignore_index=True)\n",
    "silver = pd.concat([Seneca,Tacitus, Juvenal,Martial], ignore_index=True)\n",
    "patristic = pd.concat([Tertullian,Augustine,Ausonius], ignore_index=True)"
   ]
  },
  {
   "cell_type": "code",
   "execution_count": 4,
   "id": "b7e6c415",
   "metadata": {},
   "outputs": [
    {
     "name": "stdout",
     "output_type": "stream",
     "text": [
      "Number of entries per period: 14977 24989 6962\n",
      "Overall number of entries:  46928\n"
     ]
    }
   ],
   "source": [
    "print('Number of entries per period:',len(gold),len(silver),len(patristic))\n",
    "print('Overall number of entries: ',len(gold)+len(silver)+len(patristic))"
   ]
  },
  {
   "cell_type": "code",
   "execution_count": 6,
   "id": "08d9922c",
   "metadata": {},
   "outputs": [],
   "source": [
    "df = pd.concat([Ovid,Horace,Virgil,Catullus,Seneca,Tacitus, Juvenal,Martial,Tertullian,Augustine,Ausonius], ignore_index=True)"
   ]
  },
  {
   "cell_type": "code",
   "execution_count": 23,
   "id": "aa691d87",
   "metadata": {},
   "outputs": [
    {
     "data": {
      "text/plain": [
       "Int64Index([], dtype='int64')"
      ]
     },
     "execution_count": 23,
     "metadata": {},
     "output_type": "execute_result"
    }
   ],
   "source": [
    "not_valid =df.loc[df['Text'].str.len()<2].index\n",
    "df= df.drop(not_valid)"
   ]
  },
  {
   "cell_type": "code",
   "execution_count": 35,
   "id": "70f823b5",
   "metadata": {},
   "outputs": [],
   "source": [
    "drop = df.loc[df['Text'].str.contains('roelli')].index\n",
    "df= df.drop(drop)\n",
    "drop = df.loc[df['Text'].str.contains('encoded')].index\n",
    "df= df.drop(drop)\n"
   ]
  },
  {
   "cell_type": "code",
   "execution_count": 39,
   "id": "9dd62c95",
   "metadata": {},
   "outputs": [],
   "source": [
    "df.to_csv('final.csv', sep=',', index=False, encoding='utf-8') "
   ]
  }
 ],
 "metadata": {
  "kernelspec": {
   "display_name": "Python 3 (ipykernel)",
   "language": "python",
   "name": "python3"
  },
  "language_info": {
   "codemirror_mode": {
    "name": "ipython",
    "version": 3
   },
   "file_extension": ".py",
   "mimetype": "text/x-python",
   "name": "python",
   "nbconvert_exporter": "python",
   "pygments_lexer": "ipython3",
   "version": "3.10.9"
  }
 },
 "nbformat": 4,
 "nbformat_minor": 5
}
