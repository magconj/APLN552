{
  "nbformat": 4,
  "nbformat_minor": 0,
  "metadata": {
    "colab": {
      "provenance": []
    },
    "kernelspec": {
      "name": "python3",
      "display_name": "Python 3"
    },
    "language_info": {
      "name": "python"
    },
    "gpuClass": "standard"
  },
  "cells": [
    {
      "cell_type": "code",
      "execution_count": null,
      "metadata": {
        "id": "AnzBaKkkDo0q",
        "colab": {
          "base_uri": "https://localhost:8080/"
        },
        "outputId": "d1ec133c-9227-41f4-c1f7-b22a15f33d7a"
      },
      "outputs": [
        {
          "output_type": "stream",
          "name": "stdout",
          "text": [
            "Looking in indexes: https://pypi.org/simple, https://us-python.pkg.dev/colab-wheels/public/simple/\n",
            "Collecting transformers\n",
            "  Downloading transformers-4.28.1-py3-none-any.whl (7.0 MB)\n",
            "\u001b[2K     \u001b[90m━━━━━━━━━━━━━━━━━━━━━━━━━━━━━━━━━━━━━━━━\u001b[0m \u001b[32m7.0/7.0 MB\u001b[0m \u001b[31m31.6 MB/s\u001b[0m eta \u001b[36m0:00:00\u001b[0m\n",
            "\u001b[?25hRequirement already satisfied: numpy>=1.17 in /usr/local/lib/python3.10/dist-packages (from transformers) (1.22.4)\n",
            "Requirement already satisfied: tqdm>=4.27 in /usr/local/lib/python3.10/dist-packages (from transformers) (4.65.0)\n",
            "Requirement already satisfied: packaging>=20.0 in /usr/local/lib/python3.10/dist-packages (from transformers) (23.1)\n",
            "Collecting tokenizers!=0.11.3,<0.14,>=0.11.1\n",
            "  Downloading tokenizers-0.13.3-cp310-cp310-manylinux_2_17_x86_64.manylinux2014_x86_64.whl (7.8 MB)\n",
            "\u001b[2K     \u001b[90m━━━━━━━━━━━━━━━━━━━━━━━━━━━━━━━━━━━━━━━━\u001b[0m \u001b[32m7.8/7.8 MB\u001b[0m \u001b[31m18.8 MB/s\u001b[0m eta \u001b[36m0:00:00\u001b[0m\n",
            "\u001b[?25hRequirement already satisfied: pyyaml>=5.1 in /usr/local/lib/python3.10/dist-packages (from transformers) (6.0)\n",
            "Collecting huggingface-hub<1.0,>=0.11.0\n",
            "  Downloading huggingface_hub-0.14.1-py3-none-any.whl (224 kB)\n",
            "\u001b[2K     \u001b[90m━━━━━━━━━━━━━━━━━━━━━━━━━━━━━━━━━━━━━━━\u001b[0m \u001b[32m224.5/224.5 kB\u001b[0m \u001b[31m5.8 MB/s\u001b[0m eta \u001b[36m0:00:00\u001b[0m\n",
            "\u001b[?25hRequirement already satisfied: filelock in /usr/local/lib/python3.10/dist-packages (from transformers) (3.12.0)\n",
            "Requirement already satisfied: requests in /usr/local/lib/python3.10/dist-packages (from transformers) (2.27.1)\n",
            "Requirement already satisfied: regex!=2019.12.17 in /usr/local/lib/python3.10/dist-packages (from transformers) (2022.10.31)\n",
            "Requirement already satisfied: fsspec in /usr/local/lib/python3.10/dist-packages (from huggingface-hub<1.0,>=0.11.0->transformers) (2023.4.0)\n",
            "Requirement already satisfied: typing-extensions>=3.7.4.3 in /usr/local/lib/python3.10/dist-packages (from huggingface-hub<1.0,>=0.11.0->transformers) (4.5.0)\n",
            "Requirement already satisfied: urllib3<1.27,>=1.21.1 in /usr/local/lib/python3.10/dist-packages (from requests->transformers) (1.26.15)\n",
            "Requirement already satisfied: idna<4,>=2.5 in /usr/local/lib/python3.10/dist-packages (from requests->transformers) (3.4)\n",
            "Requirement already satisfied: charset-normalizer~=2.0.0 in /usr/local/lib/python3.10/dist-packages (from requests->transformers) (2.0.12)\n",
            "Requirement already satisfied: certifi>=2017.4.17 in /usr/local/lib/python3.10/dist-packages (from requests->transformers) (2022.12.7)\n",
            "Installing collected packages: tokenizers, huggingface-hub, transformers\n",
            "Successfully installed huggingface-hub-0.14.1 tokenizers-0.13.3 transformers-4.28.1\n",
            "Looking in indexes: https://pypi.org/simple, https://us-python.pkg.dev/colab-wheels/public/simple/\n",
            "Collecting cltk\n",
            "  Downloading cltk-1.1.6-py3-none-any.whl (845 kB)\n",
            "\u001b[2K     \u001b[90m━━━━━━━━━━━━━━━━━━━━━━━━━━━━━━━━━━━━━━━\u001b[0m \u001b[32m845.0/845.0 kB\u001b[0m \u001b[31m9.4 MB/s\u001b[0m eta \u001b[36m0:00:00\u001b[0m\n",
            "\u001b[?25hCollecting stringcase<2.0,>=1.2\n",
            "  Downloading stringcase-1.2.0.tar.gz (3.0 kB)\n",
            "  Preparing metadata (setup.py) ... \u001b[?25l\u001b[?25hdone\n",
            "Requirement already satisfied: PyYAML<7.0.0,>=6.0.0 in /usr/local/lib/python3.10/dist-packages (from cltk) (6.0)\n",
            "Requirement already satisfied: spacy<4.0.0,>=3.2.4 in /usr/local/lib/python3.10/dist-packages (from cltk) (3.5.2)\n",
            "Collecting python-Levenshtein<0.13.0,>=0.12.0\n",
            "  Downloading python-Levenshtein-0.12.2.tar.gz (50 kB)\n",
            "\u001b[2K     \u001b[90m━━━━━━━━━━━━━━━━━━━━━━━━━━━━━━━━━━━━━━━━\u001b[0m \u001b[32m50.5/50.5 kB\u001b[0m \u001b[31m6.0 MB/s\u001b[0m eta \u001b[36m0:00:00\u001b[0m\n",
            "\u001b[?25h  Preparing metadata (setup.py) ... \u001b[?25l\u001b[?25hdone\n",
            "Collecting boltons<22.0.0,>=21.0.0\n",
            "  Downloading boltons-21.0.0-py2.py3-none-any.whl (193 kB)\n",
            "\u001b[2K     \u001b[90m━━━━━━━━━━━━━━━━━━━━━━━━━━━━━━━━━━━━━━\u001b[0m \u001b[32m193.7/193.7 kB\u001b[0m \u001b[31m19.5 MB/s\u001b[0m eta \u001b[36m0:00:00\u001b[0m\n",
            "\u001b[?25hRequirement already satisfied: requests<3.0.0,>=2.22.0 in /usr/local/lib/python3.10/dist-packages (from cltk) (2.27.1)\n",
            "Collecting stanza<2.0.0,>=1.3.0\n",
            "  Downloading stanza-1.5.0-py3-none-any.whl (802 kB)\n",
            "\u001b[2K     \u001b[90m━━━━━━━━━━━━━━━━━━━━━━━━━━━━━━━━━━━━━━\u001b[0m \u001b[32m802.5/802.5 kB\u001b[0m \u001b[31m48.9 MB/s\u001b[0m eta \u001b[36m0:00:00\u001b[0m\n",
            "\u001b[?25hRequirement already satisfied: scikit-learn<2.0.0,>=1.0.2 in /usr/local/lib/python3.10/dist-packages (from cltk) (1.2.2)\n",
            "Requirement already satisfied: tqdm<5.0.0,>=4.41.1 in /usr/local/lib/python3.10/dist-packages (from cltk) (4.65.0)\n",
            "Requirement already satisfied: scipy<2.0.0,>=1.8.0 in /usr/local/lib/python3.10/dist-packages (from cltk) (1.10.1)\n",
            "Collecting gitpython<4.0,>=3.0\n",
            "  Downloading GitPython-3.1.31-py3-none-any.whl (184 kB)\n",
            "\u001b[2K     \u001b[90m━━━━━━━━━━━━━━━━━━━━━━━━━━━━━━━━━━━━━━\u001b[0m \u001b[32m184.3/184.3 kB\u001b[0m \u001b[31m17.2 MB/s\u001b[0m eta \u001b[36m0:00:00\u001b[0m\n",
            "\u001b[?25hRequirement already satisfied: gensim<5.0.0,>=4.1.2 in /usr/local/lib/python3.10/dist-packages (from cltk) (4.3.1)\n",
            "Collecting greek-accentuation<2.0.0,>=1.2.0\n",
            "  Downloading greek_accentuation-1.2.0-py2.py3-none-any.whl (6.8 kB)\n",
            "Requirement already satisfied: nltk<4.0,>=3.7 in /usr/local/lib/python3.10/dist-packages (from cltk) (3.8.1)\n",
            "Requirement already satisfied: numpy>=1.18.5 in /usr/local/lib/python3.10/dist-packages (from gensim<5.0.0,>=4.1.2->cltk) (1.22.4)\n",
            "Requirement already satisfied: smart-open>=1.8.1 in /usr/local/lib/python3.10/dist-packages (from gensim<5.0.0,>=4.1.2->cltk) (6.3.0)\n",
            "Collecting gitdb<5,>=4.0.1\n",
            "  Downloading gitdb-4.0.10-py3-none-any.whl (62 kB)\n",
            "\u001b[2K     \u001b[90m━━━━━━━━━━━━━━━━━━━━━━━━━━━━━━━━━━━━━━━━\u001b[0m \u001b[32m62.7/62.7 kB\u001b[0m \u001b[31m7.6 MB/s\u001b[0m eta \u001b[36m0:00:00\u001b[0m\n",
            "\u001b[?25hRequirement already satisfied: joblib in /usr/local/lib/python3.10/dist-packages (from nltk<4.0,>=3.7->cltk) (1.2.0)\n",
            "Requirement already satisfied: click in /usr/local/lib/python3.10/dist-packages (from nltk<4.0,>=3.7->cltk) (8.1.3)\n",
            "Requirement already satisfied: regex>=2021.8.3 in /usr/local/lib/python3.10/dist-packages (from nltk<4.0,>=3.7->cltk) (2022.10.31)\n",
            "Requirement already satisfied: setuptools in /usr/local/lib/python3.10/dist-packages (from python-Levenshtein<0.13.0,>=0.12.0->cltk) (67.7.2)\n",
            "Requirement already satisfied: idna<4,>=2.5 in /usr/local/lib/python3.10/dist-packages (from requests<3.0.0,>=2.22.0->cltk) (3.4)\n",
            "Requirement already satisfied: charset-normalizer~=2.0.0 in /usr/local/lib/python3.10/dist-packages (from requests<3.0.0,>=2.22.0->cltk) (2.0.12)\n",
            "Requirement already satisfied: certifi>=2017.4.17 in /usr/local/lib/python3.10/dist-packages (from requests<3.0.0,>=2.22.0->cltk) (2022.12.7)\n",
            "Requirement already satisfied: urllib3<1.27,>=1.21.1 in /usr/local/lib/python3.10/dist-packages (from requests<3.0.0,>=2.22.0->cltk) (1.26.15)\n",
            "Requirement already satisfied: threadpoolctl>=2.0.0 in /usr/local/lib/python3.10/dist-packages (from scikit-learn<2.0.0,>=1.0.2->cltk) (3.1.0)\n",
            "Requirement already satisfied: thinc<8.2.0,>=8.1.8 in /usr/local/lib/python3.10/dist-packages (from spacy<4.0.0,>=3.2.4->cltk) (8.1.9)\n",
            "Requirement already satisfied: jinja2 in /usr/local/lib/python3.10/dist-packages (from spacy<4.0.0,>=3.2.4->cltk) (3.1.2)\n",
            "Requirement already satisfied: packaging>=20.0 in /usr/local/lib/python3.10/dist-packages (from spacy<4.0.0,>=3.2.4->cltk) (23.1)\n",
            "Requirement already satisfied: typer<0.8.0,>=0.3.0 in /usr/local/lib/python3.10/dist-packages (from spacy<4.0.0,>=3.2.4->cltk) (0.7.0)\n",
            "Requirement already satisfied: cymem<2.1.0,>=2.0.2 in /usr/local/lib/python3.10/dist-packages (from spacy<4.0.0,>=3.2.4->cltk) (2.0.7)\n",
            "Requirement already satisfied: catalogue<2.1.0,>=2.0.6 in /usr/local/lib/python3.10/dist-packages (from spacy<4.0.0,>=3.2.4->cltk) (2.0.8)\n",
            "Requirement already satisfied: srsly<3.0.0,>=2.4.3 in /usr/local/lib/python3.10/dist-packages (from spacy<4.0.0,>=3.2.4->cltk) (2.4.6)\n",
            "Requirement already satisfied: pydantic!=1.8,!=1.8.1,<1.11.0,>=1.7.4 in /usr/local/lib/python3.10/dist-packages (from spacy<4.0.0,>=3.2.4->cltk) (1.10.7)\n",
            "Requirement already satisfied: pathy>=0.10.0 in /usr/local/lib/python3.10/dist-packages (from spacy<4.0.0,>=3.2.4->cltk) (0.10.1)\n",
            "Requirement already satisfied: murmurhash<1.1.0,>=0.28.0 in /usr/local/lib/python3.10/dist-packages (from spacy<4.0.0,>=3.2.4->cltk) (1.0.9)\n",
            "Requirement already satisfied: spacy-legacy<3.1.0,>=3.0.11 in /usr/local/lib/python3.10/dist-packages (from spacy<4.0.0,>=3.2.4->cltk) (3.0.12)\n",
            "Requirement already satisfied: spacy-loggers<2.0.0,>=1.0.0 in /usr/local/lib/python3.10/dist-packages (from spacy<4.0.0,>=3.2.4->cltk) (1.0.4)\n",
            "Requirement already satisfied: preshed<3.1.0,>=3.0.2 in /usr/local/lib/python3.10/dist-packages (from spacy<4.0.0,>=3.2.4->cltk) (3.0.8)\n",
            "Requirement already satisfied: langcodes<4.0.0,>=3.2.0 in /usr/local/lib/python3.10/dist-packages (from spacy<4.0.0,>=3.2.4->cltk) (3.3.0)\n",
            "Requirement already satisfied: wasabi<1.2.0,>=0.9.1 in /usr/local/lib/python3.10/dist-packages (from spacy<4.0.0,>=3.2.4->cltk) (1.1.1)\n",
            "Requirement already satisfied: torch>=1.3.0 in /usr/local/lib/python3.10/dist-packages (from stanza<2.0.0,>=1.3.0->cltk) (2.0.0+cu118)\n",
            "Requirement already satisfied: six in /usr/local/lib/python3.10/dist-packages (from stanza<2.0.0,>=1.3.0->cltk) (1.16.0)\n",
            "Requirement already satisfied: protobuf in /usr/local/lib/python3.10/dist-packages (from stanza<2.0.0,>=1.3.0->cltk) (3.20.3)\n",
            "Collecting emoji\n",
            "  Downloading emoji-2.2.0.tar.gz (240 kB)\n",
            "\u001b[2K     \u001b[90m━━━━━━━━━━━━━━━━━━━━━━━━━━━━━━━━━━━━━━\u001b[0m \u001b[32m240.9/240.9 kB\u001b[0m \u001b[31m27.3 MB/s\u001b[0m eta \u001b[36m0:00:00\u001b[0m\n",
            "\u001b[?25h  Preparing metadata (setup.py) ... \u001b[?25l\u001b[?25hdone\n",
            "Collecting smmap<6,>=3.0.1\n",
            "  Downloading smmap-5.0.0-py3-none-any.whl (24 kB)\n",
            "Requirement already satisfied: typing-extensions>=4.2.0 in /usr/local/lib/python3.10/dist-packages (from pydantic!=1.8,!=1.8.1,<1.11.0,>=1.7.4->spacy<4.0.0,>=3.2.4->cltk) (4.5.0)\n",
            "Requirement already satisfied: blis<0.8.0,>=0.7.8 in /usr/local/lib/python3.10/dist-packages (from thinc<8.2.0,>=8.1.8->spacy<4.0.0,>=3.2.4->cltk) (0.7.9)\n",
            "Requirement already satisfied: confection<1.0.0,>=0.0.1 in /usr/local/lib/python3.10/dist-packages (from thinc<8.2.0,>=8.1.8->spacy<4.0.0,>=3.2.4->cltk) (0.0.4)\n",
            "Requirement already satisfied: networkx in /usr/local/lib/python3.10/dist-packages (from torch>=1.3.0->stanza<2.0.0,>=1.3.0->cltk) (3.1)\n",
            "Requirement already satisfied: triton==2.0.0 in /usr/local/lib/python3.10/dist-packages (from torch>=1.3.0->stanza<2.0.0,>=1.3.0->cltk) (2.0.0)\n",
            "Requirement already satisfied: filelock in /usr/local/lib/python3.10/dist-packages (from torch>=1.3.0->stanza<2.0.0,>=1.3.0->cltk) (3.12.0)\n",
            "Requirement already satisfied: sympy in /usr/local/lib/python3.10/dist-packages (from torch>=1.3.0->stanza<2.0.0,>=1.3.0->cltk) (1.11.1)\n",
            "Requirement already satisfied: cmake in /usr/local/lib/python3.10/dist-packages (from triton==2.0.0->torch>=1.3.0->stanza<2.0.0,>=1.3.0->cltk) (3.25.2)\n",
            "Requirement already satisfied: lit in /usr/local/lib/python3.10/dist-packages (from triton==2.0.0->torch>=1.3.0->stanza<2.0.0,>=1.3.0->cltk) (16.0.2)\n",
            "Requirement already satisfied: MarkupSafe>=2.0 in /usr/local/lib/python3.10/dist-packages (from jinja2->spacy<4.0.0,>=3.2.4->cltk) (2.1.2)\n",
            "Requirement already satisfied: mpmath>=0.19 in /usr/local/lib/python3.10/dist-packages (from sympy->torch>=1.3.0->stanza<2.0.0,>=1.3.0->cltk) (1.3.0)\n",
            "Building wheels for collected packages: python-Levenshtein, stringcase, emoji\n",
            "  Building wheel for python-Levenshtein (setup.py) ... \u001b[?25l\u001b[?25hdone\n",
            "  Created wheel for python-Levenshtein: filename=python_Levenshtein-0.12.2-cp310-cp310-linux_x86_64.whl size=169667 sha256=631622a71cb4a9c5f04d33a8deae7880cbfee076a458c47bced444300797c294\n",
            "  Stored in directory: /root/.cache/pip/wheels/7b/c3/05/60b4747cf52e0f6b6ee52022088a4de07d755016493e86373d\n",
            "  Building wheel for stringcase (setup.py) ... \u001b[?25l\u001b[?25hdone\n",
            "  Created wheel for stringcase: filename=stringcase-1.2.0-py3-none-any.whl size=3583 sha256=767fce1372b5f307bd14caca5ae50e3017a85c623da0892f26e593fdce28f5cc\n",
            "  Stored in directory: /root/.cache/pip/wheels/31/ba/22/1a2d952a9ce8aa86e42fda41e2c87fdaf20e238c88bf8df013\n",
            "  Building wheel for emoji (setup.py) ... \u001b[?25l\u001b[?25hdone\n",
            "  Created wheel for emoji: filename=emoji-2.2.0-py3-none-any.whl size=234926 sha256=b1ffd0c853632153d39ad34479017b7ccebd40a262bb8e068b04db82cc911444\n",
            "  Stored in directory: /root/.cache/pip/wheels/02/3d/88/51a592b9ad17e7899126563698b4e3961983ebe85747228ba6\n",
            "Successfully built python-Levenshtein stringcase emoji\n",
            "Installing collected packages: stringcase, greek-accentuation, boltons, smmap, python-Levenshtein, emoji, gitdb, gitpython, stanza, cltk\n",
            "Successfully installed boltons-21.0.0 cltk-1.1.6 emoji-2.2.0 gitdb-4.0.10 gitpython-3.1.31 greek-accentuation-1.2.0 python-Levenshtein-0.12.2 smmap-5.0.0 stanza-1.5.0 stringcase-1.2.0\n"
          ]
        }
      ],
      "source": [
        "!pip install transformers\n",
        "!pip install cltk "
      ]
    },
    {
      "cell_type": "code",
      "source": [
        "import numpy as np\n",
        "import pandas as pd\n",
        "import nltk \n",
        "from gensim.test.utils import common_texts\n",
        "from gensim.models import Word2Vec\n",
        "from nltk.tokenize import word_tokenize\n",
        "import ast\n",
        "from numpy.linalg import norm"
      ],
      "metadata": {
        "id": "tWp0jA6eF-C1"
      },
      "execution_count": null,
      "outputs": []
    },
    {
      "cell_type": "code",
      "source": [
        " nltk.download('punkt')"
      ],
      "metadata": {
        "colab": {
          "base_uri": "https://localhost:8080/"
        },
        "id": "s0h119diE28d",
        "outputId": "c4fa9269-1c25-4e82-d352-8af9f171962f"
      },
      "execution_count": null,
      "outputs": [
        {
          "output_type": "stream",
          "name": "stderr",
          "text": [
            "[nltk_data] Downloading package punkt to /root/nltk_data...\n",
            "[nltk_data]   Unzipping tokenizers/punkt.zip.\n"
          ]
        },
        {
          "output_type": "execute_result",
          "data": {
            "text/plain": [
              "True"
            ]
          },
          "metadata": {},
          "execution_count": 3
        }
      ]
    },
    {
      "cell_type": "code",
      "source": [
        "from google.colab import drive\n",
        "drive.mount('/content/drive',force_remount=True )"
      ],
      "metadata": {
        "colab": {
          "base_uri": "https://localhost:8080/"
        },
        "id": "NTU_ttdPib5e",
        "outputId": "b4e2ca3d-bc77-415e-a712-f004a547de63"
      },
      "execution_count": null,
      "outputs": [
        {
          "output_type": "stream",
          "name": "stdout",
          "text": [
            "Mounted at /content/drive\n"
          ]
        }
      ]
    },
    {
      "cell_type": "code",
      "source": [
        "df = pd.read_csv('/content/drive/MyDrive/Final_Project/final.csv')\n",
        "df['Lemmatized Text'] = df['Lemmatized Text'].apply(lambda x: ast.literal_eval(x))"
      ],
      "metadata": {
        "id": "S68HEoiFHTFd"
      },
      "execution_count": null,
      "outputs": []
    },
    {
      "cell_type": "code",
      "source": [],
      "metadata": {
        "colab": {
          "base_uri": "https://localhost:8080/"
        },
        "id": "kDr0le057-lW",
        "outputId": "a2b18a77-5ec0-41d7-a06c-cc82b4f486ac"
      },
      "execution_count": null,
      "outputs": [
        {
          "output_type": "execute_result",
          "data": {
            "text/plain": [
              "array(['Ovid', 'Horace', 'Virgil', 'Catullus', 'Seneca', 'Tacitus',\n",
              "       'Juvenal', 'Martial', 'Tertullian', 'St.Augustine', 'Ausonius'],\n",
              "      dtype=object)"
            ]
          },
          "metadata": {},
          "execution_count": 189
        }
      ]
    },
    {
      "cell_type": "markdown",
      "source": [
        "#  Opening df and Organizing "
      ],
      "metadata": {
        "id": "OYV2ai5WbIUS"
      }
    },
    {
      "cell_type": "code",
      "source": [
        "gol = df.loc[df['Period']=='Golden']\n",
        "sil = df.loc[df['Period']=='Silver']\n",
        "pat = df.loc[df['Period']=='Patristic']"
      ],
      "metadata": {
        "id": "rDuOJvADosVv"
      },
      "execution_count": null,
      "outputs": []
    },
    {
      "cell_type": "code",
      "source": [
        "## create label and sentence list\n",
        "sentences = df['Joined Lemmas'].values\n",
        "\n",
        "#check distribution of data based on labels\n",
        "print(\"Distribution of data based on labels: \",df['Period'].value_counts())"
      ],
      "metadata": {
        "colab": {
          "base_uri": "https://localhost:8080/"
        },
        "id": "OHwzE81TpFNk",
        "outputId": "6e04ef0e-a7fc-433d-9ef4-2d384197eba4"
      },
      "execution_count": null,
      "outputs": [
        {
          "output_type": "stream",
          "name": "stdout",
          "text": [
            "Distribution of data based on labels:  Silver       24936\n",
            "Golden       14975\n",
            "Patristic     6949\n",
            "Name: Period, dtype: int64\n"
          ]
        }
      ]
    },
    {
      "cell_type": "code",
      "source": [
        "#training data\n",
        "gol_train =[]\n",
        "for x in gol['Lemmatized Text']:\n",
        "  gol_train.append(x)\n",
        "\n",
        "sil_train =[]\n",
        "for x in sil['Lemmatized Text']:\n",
        "  sil_train.append(x)\n",
        "\n",
        "pat_train =[]\n",
        "for x in pat['Lemmatized Text']:\n",
        "  pat_train.append(x)"
      ],
      "metadata": {
        "id": "OY4fPDtut3te"
      },
      "execution_count": null,
      "outputs": []
    },
    {
      "cell_type": "markdown",
      "source": [
        "#Secondary Cleaning "
      ],
      "metadata": {
        "id": "jFcykuXQGq5m"
      }
    },
    {
      "cell_type": "code",
      "source": [
        "stopwords = ['ab', 'ac', 'ad', 'adhic', 'aliqui', 'aliquis', 'an', 'ante', 'apud', 'at', 'atque','aut', 'autem', 'cum', 'cur', 'de', 'deinde', 'dum', 'ego', 'enim', 'ergo', \n",
        "'es','ego','est', 'et', 'etiam', 'etsi', 'ex', 'fio', 'haud', 'hic', 'iam', 'idem', 'igitur', 'ille', 'in', 'infra', 'inter', 'interim', 'ipse', 'is', 'ita', \n",
        "'magis', 'modo', 'mox', 'nam', 'ne', 'nec', 'necque', 'neque', 'nisi', 'non', 'nos', 'o', 'ob', 'per', 'possum', 'post', 'pro', 'quae', 'quam', \n",
        "'quare', 'qui', 'quia', 'quicumque', 'quidem', 'quilibet', 'quis', 'quisnam', 'quisquam', 'quisque', 'quisquis', 'quo','quod', 'quoniam', 'sed', 'si',\n",
        "'sic', 'sive', 'sub', 'sui', 'super','suus', 'tam', 'tamen', 'trans', 'tu', 'tum', 'ubi', 'ut', 'uel', 'uero', 'vobis', 'tibi','mihi',\n",
        "'.', '?', '!','quasi']\n"
      ],
      "metadata": {
        "id": "B2mkLZ0l0gDu"
      },
      "execution_count": null,
      "outputs": []
    },
    {
      "cell_type": "code",
      "source": [
        "gold_train = []\n",
        "for x in gol_train: \n",
        "  for y in x: \n",
        "    if y in stopwords: \n",
        "      x.remove(y)\n",
        "  gold_train.append(x)\n",
        "\n",
        "patr_train = []\n",
        "for x in pat_train: \n",
        "  for y in x: \n",
        "    if y in stopwords: \n",
        "      x.remove(y)\n",
        "  patr_train.append(x)"
      ],
      "metadata": {
        "id": "-xH6GXwOFlI0"
      },
      "execution_count": null,
      "outputs": []
    },
    {
      "cell_type": "code",
      "source": [
        "silver_train = []\n",
        "for x in sil_train: \n",
        "  for y in x: \n",
        "    if y in stopwords: \n",
        "      x.remove(y)\n",
        "  silver_train.append(x)"
      ],
      "metadata": {
        "id": "ehqe5n3eG9aa"
      },
      "execution_count": null,
      "outputs": []
    },
    {
      "cell_type": "markdown",
      "source": [
        "# Word2Vec"
      ],
      "metadata": {
        "id": "57ta4eTtgdSK"
      }
    },
    {
      "cell_type": "code",
      "source": [
        "gold_voc = set(sum(gold_train,[]))\n",
        "silver_voc = set(sum(silver_train,[]))\n",
        "pat_voc = set(sum(patr_train,[]))"
      ],
      "metadata": {
        "id": "ymYSea9OgcNI"
      },
      "execution_count": null,
      "outputs": []
    },
    {
      "cell_type": "code",
      "source": [
        "vector_size = 300\n",
        "window = 2\n",
        "\n",
        "gol_model = Word2Vec(sentences=gold_train, vector_size=vector_size, window=window, min_count=1)\n",
        "sil_model = Word2Vec(sentences=silver_train, vector_size=vector_size, window=window, min_count=1)\n",
        "pat_model = Word2Vec(sentences=patr_train, vector_size=vector_size, window=window, min_count=1)"
      ],
      "metadata": {
        "id": "fmQsQIY1VrUg"
      },
      "execution_count": null,
      "outputs": []
    },
    {
      "cell_type": "code",
      "source": [
        "vector = sil_model.wv['animus']  # get numpy vector of a word\n",
        "sims = sil_model.wv.most_similar('animus', topn=10)  # get other similar words"
      ],
      "metadata": {
        "id": "JVT1kXDDVoT6"
      },
      "execution_count": null,
      "outputs": []
    },
    {
      "cell_type": "code",
      "source": [
        "def j_sim(word1,word2):\n",
        "  wordlist1 = (list(zip(*word1))[0])\n",
        "  wordlist2 = (list(zip(*word2))[0])\n",
        "  intersection = set(wordlist1).intersection(set(wordlist2))\n",
        "  union = set(wordlist1).union(set(wordlist2))\n",
        "  sim = len(intersection) / len(union)\n",
        "  return sim #,len(intersection),len(union)\n"
      ],
      "metadata": {
        "id": "nxIkXQ5i-yvz"
      },
      "execution_count": null,
      "outputs": []
    },
    {
      "cell_type": "code",
      "source": [
        "w1_gold = gol_model.wv.most_similar('colla', topn=10)\n",
        "print(list(zip(*w1_gold))[0])"
      ],
      "metadata": {
        "colab": {
          "base_uri": "https://localhost:8080/"
        },
        "id": "85oljxsbhCmm",
        "outputId": "2cae1441-29ef-4361-acfd-b7ae9b0098e2"
      },
      "execution_count": null,
      "outputs": [
        {
          "output_type": "stream",
          "name": "stdout",
          "text": [
            "('auris', 'aqua', 'litor', 'lego', 'flamma', 'equus', 'ager', 'caput', 'suus', 'ingens')\n"
          ]
        }
      ]
    },
    {
      "cell_type": "code",
      "source": [
        "w1_silver = sil_model.wv.most_similar('colla', topn=10)\n",
        "print(list(zip(*w1_silver))[0])"
      ],
      "metadata": {
        "colab": {
          "base_uri": "https://localhost:8080/"
        },
        "id": "b3ABgN0skcSA",
        "outputId": "7183d9e2-092b-46df-9e9e-5b8d0b92fc8c"
      },
      "execution_count": null,
      "outputs": [
        {
          "output_type": "stream",
          "name": "stdout",
          "text": [
            "('acies', 'flumen', 'simul', 'mons', 'pes', 'dens', 'niger', 'iaceo', 'cohortus', 'altus')\n"
          ]
        }
      ]
    },
    {
      "cell_type": "code",
      "source": [
        "j_sim(w1_gold,w1_silver)"
      ],
      "metadata": {
        "colab": {
          "base_uri": "https://localhost:8080/"
        },
        "id": "E0aa7gNX_bCb",
        "outputId": "1302a5df-93e3-4f3c-8399-e69be15394e4"
      },
      "execution_count": null,
      "outputs": [
        {
          "output_type": "execute_result",
          "data": {
            "text/plain": [
              "0.0"
            ]
          },
          "metadata": {},
          "execution_count": 171
        }
      ]
    },
    {
      "cell_type": "code",
      "source": [
        "w1 = gol_model.wv.most_similar('os', topn=50)\n",
        "w2 = sil_model.wv.most_similar('os', topn=50)\n",
        "\n",
        "j_sim(w1,w2)"
      ],
      "metadata": {
        "colab": {
          "base_uri": "https://localhost:8080/"
        },
        "id": "NWJQqFxII-aS",
        "outputId": "5553b201-efae-49d3-d5be-41a91812939a"
      },
      "execution_count": null,
      "outputs": [
        {
          "output_type": "execute_result",
          "data": {
            "text/plain": [
              "0.19047619047619047"
            ]
          },
          "metadata": {},
          "execution_count": 150
        }
      ]
    },
    {
      "cell_type": "markdown",
      "source": [
        "# Comparasions "
      ],
      "metadata": {
        "id": "jb-TyT6nLETY"
      }
    },
    {
      "cell_type": "markdown",
      "source": [
        "## gold to silver"
      ],
      "metadata": {
        "id": "kGHn4Iz0gvO2"
      }
    },
    {
      "cell_type": "code",
      "source": [
        "#gold to silver \n",
        "\n",
        "gs_info = []\n",
        "\n",
        "for x in gold_voc: \n",
        "  if x in silver_voc: \n",
        "    w1 = gol_model.wv.most_similar(x, topn=50)\n",
        "    w2 = sil_model.wv.most_similar(x, topn=50)\n",
        "    sim = j_sim(w1,w2)\n",
        "    topgold = list(zip(*w1))[0] \n",
        "    topsilver = list(zip(*w2))[0]\n",
        "    intersect = set(topgold).intersection(set(topsilver))\n",
        "    gs_info.append((x,sim,intersect,topgold,topsilver))\n",
        "    \n"
      ],
      "metadata": {
        "id": "TpnfN5KNLKLY"
      },
      "execution_count": null,
      "outputs": []
    },
    {
      "cell_type": "code",
      "source": [
        "data = list(sorted(gs_info))\n",
        "df = pd.DataFrame(data, columns =['Word','Jaccard Sim',\"Shared Set\",'Gold Set','Silver Set'])\n",
        "df.head(1)"
      ],
      "metadata": {
        "colab": {
          "base_uri": "https://localhost:8080/",
          "height": 80
        },
        "id": "ymxwIkHaMmNv",
        "outputId": "570082ad-300f-48e7-d0c8-e378abd1e719"
      },
      "execution_count": null,
      "outputs": [
        {
          "output_type": "execute_result",
          "data": {
            "text/plain": [
              "  Word  Jaccard Sim Shared Set  \\\n",
              "0    1          0.0         {}   \n",
              "\n",
              "                                            Gold Set  \\\n",
              "0  (prope, tempus, paruus, mens, homo, cupio, fel...   \n",
              "\n",
              "                                          Silver Set  \n",
              "0  (obscure, murex, vocantur, belgicus, cunnum, m...  "
            ],
            "text/html": [
              "\n",
              "  <div id=\"df-b1a3bddc-0160-420a-88fc-af77651e9b25\">\n",
              "    <div class=\"colab-df-container\">\n",
              "      <div>\n",
              "<style scoped>\n",
              "    .dataframe tbody tr th:only-of-type {\n",
              "        vertical-align: middle;\n",
              "    }\n",
              "\n",
              "    .dataframe tbody tr th {\n",
              "        vertical-align: top;\n",
              "    }\n",
              "\n",
              "    .dataframe thead th {\n",
              "        text-align: right;\n",
              "    }\n",
              "</style>\n",
              "<table border=\"1\" class=\"dataframe\">\n",
              "  <thead>\n",
              "    <tr style=\"text-align: right;\">\n",
              "      <th></th>\n",
              "      <th>Word</th>\n",
              "      <th>Jaccard Sim</th>\n",
              "      <th>Shared Set</th>\n",
              "      <th>Gold Set</th>\n",
              "      <th>Silver Set</th>\n",
              "    </tr>\n",
              "  </thead>\n",
              "  <tbody>\n",
              "    <tr>\n",
              "      <th>0</th>\n",
              "      <td>1</td>\n",
              "      <td>0.0</td>\n",
              "      <td>{}</td>\n",
              "      <td>(prope, tempus, paruus, mens, homo, cupio, fel...</td>\n",
              "      <td>(obscure, murex, vocantur, belgicus, cunnum, m...</td>\n",
              "    </tr>\n",
              "  </tbody>\n",
              "</table>\n",
              "</div>\n",
              "      <button class=\"colab-df-convert\" onclick=\"convertToInteractive('df-b1a3bddc-0160-420a-88fc-af77651e9b25')\"\n",
              "              title=\"Convert this dataframe to an interactive table.\"\n",
              "              style=\"display:none;\">\n",
              "        \n",
              "  <svg xmlns=\"http://www.w3.org/2000/svg\" height=\"24px\"viewBox=\"0 0 24 24\"\n",
              "       width=\"24px\">\n",
              "    <path d=\"M0 0h24v24H0V0z\" fill=\"none\"/>\n",
              "    <path d=\"M18.56 5.44l.94 2.06.94-2.06 2.06-.94-2.06-.94-.94-2.06-.94 2.06-2.06.94zm-11 1L8.5 8.5l.94-2.06 2.06-.94-2.06-.94L8.5 2.5l-.94 2.06-2.06.94zm10 10l.94 2.06.94-2.06 2.06-.94-2.06-.94-.94-2.06-.94 2.06-2.06.94z\"/><path d=\"M17.41 7.96l-1.37-1.37c-.4-.4-.92-.59-1.43-.59-.52 0-1.04.2-1.43.59L10.3 9.45l-7.72 7.72c-.78.78-.78 2.05 0 2.83L4 21.41c.39.39.9.59 1.41.59.51 0 1.02-.2 1.41-.59l7.78-7.78 2.81-2.81c.8-.78.8-2.07 0-2.86zM5.41 20L4 18.59l7.72-7.72 1.47 1.35L5.41 20z\"/>\n",
              "  </svg>\n",
              "      </button>\n",
              "      \n",
              "  <style>\n",
              "    .colab-df-container {\n",
              "      display:flex;\n",
              "      flex-wrap:wrap;\n",
              "      gap: 12px;\n",
              "    }\n",
              "\n",
              "    .colab-df-convert {\n",
              "      background-color: #E8F0FE;\n",
              "      border: none;\n",
              "      border-radius: 50%;\n",
              "      cursor: pointer;\n",
              "      display: none;\n",
              "      fill: #1967D2;\n",
              "      height: 32px;\n",
              "      padding: 0 0 0 0;\n",
              "      width: 32px;\n",
              "    }\n",
              "\n",
              "    .colab-df-convert:hover {\n",
              "      background-color: #E2EBFA;\n",
              "      box-shadow: 0px 1px 2px rgba(60, 64, 67, 0.3), 0px 1px 3px 1px rgba(60, 64, 67, 0.15);\n",
              "      fill: #174EA6;\n",
              "    }\n",
              "\n",
              "    [theme=dark] .colab-df-convert {\n",
              "      background-color: #3B4455;\n",
              "      fill: #D2E3FC;\n",
              "    }\n",
              "\n",
              "    [theme=dark] .colab-df-convert:hover {\n",
              "      background-color: #434B5C;\n",
              "      box-shadow: 0px 1px 3px 1px rgba(0, 0, 0, 0.15);\n",
              "      filter: drop-shadow(0px 1px 2px rgba(0, 0, 0, 0.3));\n",
              "      fill: #FFFFFF;\n",
              "    }\n",
              "  </style>\n",
              "\n",
              "      <script>\n",
              "        const buttonEl =\n",
              "          document.querySelector('#df-b1a3bddc-0160-420a-88fc-af77651e9b25 button.colab-df-convert');\n",
              "        buttonEl.style.display =\n",
              "          google.colab.kernel.accessAllowed ? 'block' : 'none';\n",
              "\n",
              "        async function convertToInteractive(key) {\n",
              "          const element = document.querySelector('#df-b1a3bddc-0160-420a-88fc-af77651e9b25');\n",
              "          const dataTable =\n",
              "            await google.colab.kernel.invokeFunction('convertToInteractive',\n",
              "                                                     [key], {});\n",
              "          if (!dataTable) return;\n",
              "\n",
              "          const docLinkHtml = 'Like what you see? Visit the ' +\n",
              "            '<a target=\"_blank\" href=https://colab.research.google.com/notebooks/data_table.ipynb>data table notebook</a>'\n",
              "            + ' to learn more about interactive tables.';\n",
              "          element.innerHTML = '';\n",
              "          dataTable['output_type'] = 'display_data';\n",
              "          await google.colab.output.renderOutput(dataTable, element);\n",
              "          const docLink = document.createElement('div');\n",
              "          docLink.innerHTML = docLinkHtml;\n",
              "          element.appendChild(docLink);\n",
              "        }\n",
              "      </script>\n",
              "    </div>\n",
              "  </div>\n",
              "  "
            ]
          },
          "metadata": {},
          "execution_count": 192
        }
      ]
    },
    {
      "cell_type": "code",
      "source": [
        "df.sort_values(by='Jaccard Sim', ascending =False).head(10)"
      ],
      "metadata": {
        "colab": {
          "base_uri": "https://localhost:8080/",
          "height": 407
        },
        "id": "cQZVbx0wlGqg",
        "outputId": "68a350d0-c897-4af3-895c-66baa48dc20b"
      },
      "execution_count": null,
      "outputs": [
        {
          "output_type": "execute_result",
          "data": {
            "text/plain": [
              "        Word  Jaccard Sim                                         Shared Set  \\\n",
              "3679   facio     0.250000  {ille, dignus, dico, quaero, miser, malum, si,...   \n",
              "2856    dico     0.204819  {ille, hic, dignus, non, quaero, inquam, facio...   \n",
              "7341      os     0.190476  {simul, mons, puer, ager, redeo, oculus, fugio...   \n",
              "1646  centum     0.190476  {simul, puer, capio, suus, ager, redeo, fugio,...   \n",
              "2351   credo     0.176471  {ille, dignus, quaero, inquam, qui, paruus, op...   \n",
              "4724   ignis     0.176471  {mare, mons, undus, ager, fugio, ferrum, sol, ...   \n",
              "1575   causa     0.176471  {ille, hic, dignus, quaero, malum, inquam, opu...   \n",
              "1901   colla     0.162791  {mons, dens, auro, undus, sanguis, ager, os, o...   \n",
              "6884   nihil     0.162791  {ille, dignus, non, quaero, amicus, opus, quis...   \n",
              "8785     ras     0.162791  {simul, puer, mons, clamor, ager, ferrum, pes,...   \n",
              "\n",
              "                                               Gold Set  \\\n",
              "3679  (cura, credo, bonus, si, possum, dico, tu, ist...   \n",
              "2856  (facio, tu, iste, credo, ego, causa, si, bonus...   \n",
              "7341  (ingens, ora, simul, ager, ipse, ferrum, membr...   \n",
              "1646  (ingens, lego, ager, cado, puer, ora, anima, l...   \n",
              "2351  (bonus, animus, si, nihil, cura, mens, tantus,...   \n",
              "4724  (flamma, ara, litor, flumen, aqua, undus, auro...   \n",
              "1575  (tu, si, nullus, iste, hic, credo, mens, poena...   \n",
              "1901  (auris, aqua, litor, lego, flamma, equus, ager...   \n",
              "6884  (si, opus, bonus, credo, paruus, alius, nosco,...   \n",
              "8785  (ingens, cado, in, aqua, traho, urbis, siue, s...   \n",
              "\n",
              "                                             Silver Set  \n",
              "3679  (credo, non, malum, scio, iste, homo, qui, hon...  \n",
              "2856  (inquam, scio, possum, tu, credo, ego, satis, ...  \n",
              "7341  (sanguis, mater, ager, mare, mons, ubi, simul,...  \n",
              "1646  (donec, mater, altus, traho, ager, regnum, qua...  \n",
              "2351  (scio, sapiens, honestus, ratio, opus, par, en...  \n",
              "4724  (iaceo, sanguis, aqua, bibo, ager, pes, mare, ...  \n",
              "1575  (honestus, opus, credo, difficilis, ratio, par...  \n",
              "1901  (acies, flumen, mons, simul, pes, dens, niger,...  \n",
              "6884  (scio, non, credo, tu, qui, inquam, possum, di...  \n",
              "8785  (nobilis, addo, rus, mollis, gaudeo, altus, ni...  "
            ],
            "text/html": [
              "\n",
              "  <div id=\"df-5d1e1b67-fdae-4296-982c-d27fabf39fea\">\n",
              "    <div class=\"colab-df-container\">\n",
              "      <div>\n",
              "<style scoped>\n",
              "    .dataframe tbody tr th:only-of-type {\n",
              "        vertical-align: middle;\n",
              "    }\n",
              "\n",
              "    .dataframe tbody tr th {\n",
              "        vertical-align: top;\n",
              "    }\n",
              "\n",
              "    .dataframe thead th {\n",
              "        text-align: right;\n",
              "    }\n",
              "</style>\n",
              "<table border=\"1\" class=\"dataframe\">\n",
              "  <thead>\n",
              "    <tr style=\"text-align: right;\">\n",
              "      <th></th>\n",
              "      <th>Word</th>\n",
              "      <th>Jaccard Sim</th>\n",
              "      <th>Shared Set</th>\n",
              "      <th>Gold Set</th>\n",
              "      <th>Silver Set</th>\n",
              "    </tr>\n",
              "  </thead>\n",
              "  <tbody>\n",
              "    <tr>\n",
              "      <th>3679</th>\n",
              "      <td>facio</td>\n",
              "      <td>0.250000</td>\n",
              "      <td>{ille, dignus, dico, quaero, miser, malum, si,...</td>\n",
              "      <td>(cura, credo, bonus, si, possum, dico, tu, ist...</td>\n",
              "      <td>(credo, non, malum, scio, iste, homo, qui, hon...</td>\n",
              "    </tr>\n",
              "    <tr>\n",
              "      <th>2856</th>\n",
              "      <td>dico</td>\n",
              "      <td>0.204819</td>\n",
              "      <td>{ille, hic, dignus, non, quaero, inquam, facio...</td>\n",
              "      <td>(facio, tu, iste, credo, ego, causa, si, bonus...</td>\n",
              "      <td>(inquam, scio, possum, tu, credo, ego, satis, ...</td>\n",
              "    </tr>\n",
              "    <tr>\n",
              "      <th>7341</th>\n",
              "      <td>os</td>\n",
              "      <td>0.190476</td>\n",
              "      <td>{simul, mons, puer, ager, redeo, oculus, fugio...</td>\n",
              "      <td>(ingens, ora, simul, ager, ipse, ferrum, membr...</td>\n",
              "      <td>(sanguis, mater, ager, mare, mons, ubi, simul,...</td>\n",
              "    </tr>\n",
              "    <tr>\n",
              "      <th>1646</th>\n",
              "      <td>centum</td>\n",
              "      <td>0.190476</td>\n",
              "      <td>{simul, puer, capio, suus, ager, redeo, fugio,...</td>\n",
              "      <td>(ingens, lego, ager, cado, puer, ora, anima, l...</td>\n",
              "      <td>(donec, mater, altus, traho, ager, regnum, qua...</td>\n",
              "    </tr>\n",
              "    <tr>\n",
              "      <th>2351</th>\n",
              "      <td>credo</td>\n",
              "      <td>0.176471</td>\n",
              "      <td>{ille, dignus, quaero, inquam, qui, paruus, op...</td>\n",
              "      <td>(bonus, animus, si, nihil, cura, mens, tantus,...</td>\n",
              "      <td>(scio, sapiens, honestus, ratio, opus, par, en...</td>\n",
              "    </tr>\n",
              "    <tr>\n",
              "      <th>4724</th>\n",
              "      <td>ignis</td>\n",
              "      <td>0.176471</td>\n",
              "      <td>{mare, mons, undus, ager, fugio, ferrum, sol, ...</td>\n",
              "      <td>(flamma, ara, litor, flumen, aqua, undus, auro...</td>\n",
              "      <td>(iaceo, sanguis, aqua, bibo, ager, pes, mare, ...</td>\n",
              "    </tr>\n",
              "    <tr>\n",
              "      <th>1575</th>\n",
              "      <td>causa</td>\n",
              "      <td>0.176471</td>\n",
              "      <td>{ille, hic, dignus, quaero, malum, inquam, opu...</td>\n",
              "      <td>(tu, si, nullus, iste, hic, credo, mens, poena...</td>\n",
              "      <td>(honestus, opus, credo, difficilis, ratio, par...</td>\n",
              "    </tr>\n",
              "    <tr>\n",
              "      <th>1901</th>\n",
              "      <td>colla</td>\n",
              "      <td>0.162791</td>\n",
              "      <td>{mons, dens, auro, undus, sanguis, ager, os, o...</td>\n",
              "      <td>(auris, aqua, litor, lego, flamma, equus, ager...</td>\n",
              "      <td>(acies, flumen, mons, simul, pes, dens, niger,...</td>\n",
              "    </tr>\n",
              "    <tr>\n",
              "      <th>6884</th>\n",
              "      <td>nihil</td>\n",
              "      <td>0.162791</td>\n",
              "      <td>{ille, dignus, non, quaero, amicus, opus, quis...</td>\n",
              "      <td>(si, opus, bonus, credo, paruus, alius, nosco,...</td>\n",
              "      <td>(scio, non, credo, tu, qui, inquam, possum, di...</td>\n",
              "    </tr>\n",
              "    <tr>\n",
              "      <th>8785</th>\n",
              "      <td>ras</td>\n",
              "      <td>0.162791</td>\n",
              "      <td>{simul, puer, mons, clamor, ager, ferrum, pes,...</td>\n",
              "      <td>(ingens, cado, in, aqua, traho, urbis, siue, s...</td>\n",
              "      <td>(nobilis, addo, rus, mollis, gaudeo, altus, ni...</td>\n",
              "    </tr>\n",
              "  </tbody>\n",
              "</table>\n",
              "</div>\n",
              "      <button class=\"colab-df-convert\" onclick=\"convertToInteractive('df-5d1e1b67-fdae-4296-982c-d27fabf39fea')\"\n",
              "              title=\"Convert this dataframe to an interactive table.\"\n",
              "              style=\"display:none;\">\n",
              "        \n",
              "  <svg xmlns=\"http://www.w3.org/2000/svg\" height=\"24px\"viewBox=\"0 0 24 24\"\n",
              "       width=\"24px\">\n",
              "    <path d=\"M0 0h24v24H0V0z\" fill=\"none\"/>\n",
              "    <path d=\"M18.56 5.44l.94 2.06.94-2.06 2.06-.94-2.06-.94-.94-2.06-.94 2.06-2.06.94zm-11 1L8.5 8.5l.94-2.06 2.06-.94-2.06-.94L8.5 2.5l-.94 2.06-2.06.94zm10 10l.94 2.06.94-2.06 2.06-.94-2.06-.94-.94-2.06-.94 2.06-2.06.94z\"/><path d=\"M17.41 7.96l-1.37-1.37c-.4-.4-.92-.59-1.43-.59-.52 0-1.04.2-1.43.59L10.3 9.45l-7.72 7.72c-.78.78-.78 2.05 0 2.83L4 21.41c.39.39.9.59 1.41.59.51 0 1.02-.2 1.41-.59l7.78-7.78 2.81-2.81c.8-.78.8-2.07 0-2.86zM5.41 20L4 18.59l7.72-7.72 1.47 1.35L5.41 20z\"/>\n",
              "  </svg>\n",
              "      </button>\n",
              "      \n",
              "  <style>\n",
              "    .colab-df-container {\n",
              "      display:flex;\n",
              "      flex-wrap:wrap;\n",
              "      gap: 12px;\n",
              "    }\n",
              "\n",
              "    .colab-df-convert {\n",
              "      background-color: #E8F0FE;\n",
              "      border: none;\n",
              "      border-radius: 50%;\n",
              "      cursor: pointer;\n",
              "      display: none;\n",
              "      fill: #1967D2;\n",
              "      height: 32px;\n",
              "      padding: 0 0 0 0;\n",
              "      width: 32px;\n",
              "    }\n",
              "\n",
              "    .colab-df-convert:hover {\n",
              "      background-color: #E2EBFA;\n",
              "      box-shadow: 0px 1px 2px rgba(60, 64, 67, 0.3), 0px 1px 3px 1px rgba(60, 64, 67, 0.15);\n",
              "      fill: #174EA6;\n",
              "    }\n",
              "\n",
              "    [theme=dark] .colab-df-convert {\n",
              "      background-color: #3B4455;\n",
              "      fill: #D2E3FC;\n",
              "    }\n",
              "\n",
              "    [theme=dark] .colab-df-convert:hover {\n",
              "      background-color: #434B5C;\n",
              "      box-shadow: 0px 1px 3px 1px rgba(0, 0, 0, 0.15);\n",
              "      filter: drop-shadow(0px 1px 2px rgba(0, 0, 0, 0.3));\n",
              "      fill: #FFFFFF;\n",
              "    }\n",
              "  </style>\n",
              "\n",
              "      <script>\n",
              "        const buttonEl =\n",
              "          document.querySelector('#df-5d1e1b67-fdae-4296-982c-d27fabf39fea button.colab-df-convert');\n",
              "        buttonEl.style.display =\n",
              "          google.colab.kernel.accessAllowed ? 'block' : 'none';\n",
              "\n",
              "        async function convertToInteractive(key) {\n",
              "          const element = document.querySelector('#df-5d1e1b67-fdae-4296-982c-d27fabf39fea');\n",
              "          const dataTable =\n",
              "            await google.colab.kernel.invokeFunction('convertToInteractive',\n",
              "                                                     [key], {});\n",
              "          if (!dataTable) return;\n",
              "\n",
              "          const docLinkHtml = 'Like what you see? Visit the ' +\n",
              "            '<a target=\"_blank\" href=https://colab.research.google.com/notebooks/data_table.ipynb>data table notebook</a>'\n",
              "            + ' to learn more about interactive tables.';\n",
              "          element.innerHTML = '';\n",
              "          dataTable['output_type'] = 'display_data';\n",
              "          await google.colab.output.renderOutput(dataTable, element);\n",
              "          const docLink = document.createElement('div');\n",
              "          docLink.innerHTML = docLinkHtml;\n",
              "          element.appendChild(docLink);\n",
              "        }\n",
              "      </script>\n",
              "    </div>\n",
              "  </div>\n",
              "  "
            ]
          },
          "metadata": {},
          "execution_count": 135
        }
      ]
    },
    {
      "cell_type": "code",
      "source": [
        "pd.set_option('display.max_colwidth', None)\n",
        "df.loc[df['Word']=='dico']"
      ],
      "metadata": {
        "colab": {
          "base_uri": "https://localhost:8080/",
          "height": 229
        },
        "id": "ZMbhCOzCXXm_",
        "outputId": "c11e25a5-e817-47f2-abcb-53fc9c7f7817"
      },
      "execution_count": null,
      "outputs": [
        {
          "output_type": "execute_result",
          "data": {
            "text/plain": [
              "      Word  Jaccard Sim  \\\n",
              "2856  dico     0.204819   \n",
              "\n",
              "                                                                                                        Shared Set  \\\n",
              "2856  {ille, hic, dignus, non, quaero, inquam, facio, miser, si, tu, modus, loquor, qui, talis, nihil, ego, credo}   \n",
              "\n",
              "                                                                                                                                                                                                                                                                                                                                         Gold Set  \\\n",
              "2856  (facio, tu, iste, credo, ego, causa, si, bonus, qui, amor, poena, animus, quaero, nullus, nihil, non, noster, refero, cura, tuus, opus, nosco, magnus, reddo, ille, res, se, modus, munus, ullus, dignus, fatum, miser, inquam, hic, audio, do, ago, tantus, loquor, licet, alius, mens, fortuna, vos, aio, talis, carmen, habeo, cognosco)   \n",
              "\n",
              "                                                                                                                                                                                                                                                                                                                                                               Silver Set  \n",
              "2856  (inquam, scio, possum, tu, credo, ego, satis, beatus, ille, debeo, sapiens, modus, puto, par, necesse, ratio, nihil, irascor, ira, non, enim, quaero, patior, dignus, amicus, miser, turpis, verum, animal, contineo, qui, si, vis, hic, quis, stultus, talis, quod, ut, facio, nemo, timeo, sententia, loquor, honestus, difficilis, nego, itaque, bene, iniurius)  "
            ],
            "text/html": [
              "\n",
              "  <div id=\"df-6babfb0a-fa4c-48a3-9bc0-2ac21e250aaf\">\n",
              "    <div class=\"colab-df-container\">\n",
              "      <div>\n",
              "<style scoped>\n",
              "    .dataframe tbody tr th:only-of-type {\n",
              "        vertical-align: middle;\n",
              "    }\n",
              "\n",
              "    .dataframe tbody tr th {\n",
              "        vertical-align: top;\n",
              "    }\n",
              "\n",
              "    .dataframe thead th {\n",
              "        text-align: right;\n",
              "    }\n",
              "</style>\n",
              "<table border=\"1\" class=\"dataframe\">\n",
              "  <thead>\n",
              "    <tr style=\"text-align: right;\">\n",
              "      <th></th>\n",
              "      <th>Word</th>\n",
              "      <th>Jaccard Sim</th>\n",
              "      <th>Shared Set</th>\n",
              "      <th>Gold Set</th>\n",
              "      <th>Silver Set</th>\n",
              "    </tr>\n",
              "  </thead>\n",
              "  <tbody>\n",
              "    <tr>\n",
              "      <th>2856</th>\n",
              "      <td>dico</td>\n",
              "      <td>0.204819</td>\n",
              "      <td>{ille, hic, dignus, non, quaero, inquam, facio, miser, si, tu, modus, loquor, qui, talis, nihil, ego, credo}</td>\n",
              "      <td>(facio, tu, iste, credo, ego, causa, si, bonus, qui, amor, poena, animus, quaero, nullus, nihil, non, noster, refero, cura, tuus, opus, nosco, magnus, reddo, ille, res, se, modus, munus, ullus, dignus, fatum, miser, inquam, hic, audio, do, ago, tantus, loquor, licet, alius, mens, fortuna, vos, aio, talis, carmen, habeo, cognosco)</td>\n",
              "      <td>(inquam, scio, possum, tu, credo, ego, satis, beatus, ille, debeo, sapiens, modus, puto, par, necesse, ratio, nihil, irascor, ira, non, enim, quaero, patior, dignus, amicus, miser, turpis, verum, animal, contineo, qui, si, vis, hic, quis, stultus, talis, quod, ut, facio, nemo, timeo, sententia, loquor, honestus, difficilis, nego, itaque, bene, iniurius)</td>\n",
              "    </tr>\n",
              "  </tbody>\n",
              "</table>\n",
              "</div>\n",
              "      <button class=\"colab-df-convert\" onclick=\"convertToInteractive('df-6babfb0a-fa4c-48a3-9bc0-2ac21e250aaf')\"\n",
              "              title=\"Convert this dataframe to an interactive table.\"\n",
              "              style=\"display:none;\">\n",
              "        \n",
              "  <svg xmlns=\"http://www.w3.org/2000/svg\" height=\"24px\"viewBox=\"0 0 24 24\"\n",
              "       width=\"24px\">\n",
              "    <path d=\"M0 0h24v24H0V0z\" fill=\"none\"/>\n",
              "    <path d=\"M18.56 5.44l.94 2.06.94-2.06 2.06-.94-2.06-.94-.94-2.06-.94 2.06-2.06.94zm-11 1L8.5 8.5l.94-2.06 2.06-.94-2.06-.94L8.5 2.5l-.94 2.06-2.06.94zm10 10l.94 2.06.94-2.06 2.06-.94-2.06-.94-.94-2.06-.94 2.06-2.06.94z\"/><path d=\"M17.41 7.96l-1.37-1.37c-.4-.4-.92-.59-1.43-.59-.52 0-1.04.2-1.43.59L10.3 9.45l-7.72 7.72c-.78.78-.78 2.05 0 2.83L4 21.41c.39.39.9.59 1.41.59.51 0 1.02-.2 1.41-.59l7.78-7.78 2.81-2.81c.8-.78.8-2.07 0-2.86zM5.41 20L4 18.59l7.72-7.72 1.47 1.35L5.41 20z\"/>\n",
              "  </svg>\n",
              "      </button>\n",
              "      \n",
              "  <style>\n",
              "    .colab-df-container {\n",
              "      display:flex;\n",
              "      flex-wrap:wrap;\n",
              "      gap: 12px;\n",
              "    }\n",
              "\n",
              "    .colab-df-convert {\n",
              "      background-color: #E8F0FE;\n",
              "      border: none;\n",
              "      border-radius: 50%;\n",
              "      cursor: pointer;\n",
              "      display: none;\n",
              "      fill: #1967D2;\n",
              "      height: 32px;\n",
              "      padding: 0 0 0 0;\n",
              "      width: 32px;\n",
              "    }\n",
              "\n",
              "    .colab-df-convert:hover {\n",
              "      background-color: #E2EBFA;\n",
              "      box-shadow: 0px 1px 2px rgba(60, 64, 67, 0.3), 0px 1px 3px 1px rgba(60, 64, 67, 0.15);\n",
              "      fill: #174EA6;\n",
              "    }\n",
              "\n",
              "    [theme=dark] .colab-df-convert {\n",
              "      background-color: #3B4455;\n",
              "      fill: #D2E3FC;\n",
              "    }\n",
              "\n",
              "    [theme=dark] .colab-df-convert:hover {\n",
              "      background-color: #434B5C;\n",
              "      box-shadow: 0px 1px 3px 1px rgba(0, 0, 0, 0.15);\n",
              "      filter: drop-shadow(0px 1px 2px rgba(0, 0, 0, 0.3));\n",
              "      fill: #FFFFFF;\n",
              "    }\n",
              "  </style>\n",
              "\n",
              "      <script>\n",
              "        const buttonEl =\n",
              "          document.querySelector('#df-6babfb0a-fa4c-48a3-9bc0-2ac21e250aaf button.colab-df-convert');\n",
              "        buttonEl.style.display =\n",
              "          google.colab.kernel.accessAllowed ? 'block' : 'none';\n",
              "\n",
              "        async function convertToInteractive(key) {\n",
              "          const element = document.querySelector('#df-6babfb0a-fa4c-48a3-9bc0-2ac21e250aaf');\n",
              "          const dataTable =\n",
              "            await google.colab.kernel.invokeFunction('convertToInteractive',\n",
              "                                                     [key], {});\n",
              "          if (!dataTable) return;\n",
              "\n",
              "          const docLinkHtml = 'Like what you see? Visit the ' +\n",
              "            '<a target=\"_blank\" href=https://colab.research.google.com/notebooks/data_table.ipynb>data table notebook</a>'\n",
              "            + ' to learn more about interactive tables.';\n",
              "          element.innerHTML = '';\n",
              "          dataTable['output_type'] = 'display_data';\n",
              "          await google.colab.output.renderOutput(dataTable, element);\n",
              "          const docLink = document.createElement('div');\n",
              "          docLink.innerHTML = docLinkHtml;\n",
              "          element.appendChild(docLink);\n",
              "        }\n",
              "      </script>\n",
              "    </div>\n",
              "  </div>\n",
              "  "
            ]
          },
          "metadata": {},
          "execution_count": 237
        }
      ]
    },
    {
      "cell_type": "code",
      "source": [
        "df.loc[df['Word']=='candidus']['Gold Set']"
      ],
      "metadata": {
        "colab": {
          "base_uri": "https://localhost:8080/"
        },
        "id": "kAjkfI1Fgjrj",
        "outputId": "448e8b09-ea89-4ada-f6e0-37f31070a61c"
      },
      "execution_count": null,
      "outputs": [
        {
          "output_type": "execute_result",
          "data": {
            "text/plain": [
              "1412    (armis, uns, ingens, les, ipse, liber, mollis, sto, paro, urbis, puer, pes, aer, oculus, vidit, lego, ara, caput, ars, ager, cado, venit, herba, sax, mitto, amnis, summus, flumen, annus, orbis, soror, equus, dux, flamma, accipio, patior, auras, ferrum, mare, sacer, traho, aqua, qualis, lumen, fugio, suus, redeo, relinquo, siue, cursus)\n",
              "Name: Gold Set, dtype: object"
            ]
          },
          "metadata": {},
          "execution_count": 203
        }
      ]
    },
    {
      "cell_type": "markdown",
      "source": [
        "## Gold to Patr"
      ],
      "metadata": {
        "id": "21EEsGurgqu0"
      }
    },
    {
      "cell_type": "code",
      "source": [
        "gsp_info = []\n",
        "\n",
        "for x in gold_voc: \n",
        "  if x in silver_voc: \n",
        "    if x in pat_voc:\n",
        "      w1 = gol_model.wv.most_similar(x, topn=50)\n",
        "      w2 = pat_model.wv.most_similar(x, topn=50)\n",
        "      sim = j_sim(w1,w2)\n",
        "      topgold = list(zip(*w1))[0] \n",
        "      toppat = list(zip(*w2))[0]\n",
        "      intersect = set(topgold).intersection(set(toppat))\n",
        "      gsp_info.append((x,sim,intersect,topgold,toppat))"
      ],
      "metadata": {
        "id": "9iyO2SWzg648"
      },
      "execution_count": null,
      "outputs": []
    },
    {
      "cell_type": "code",
      "source": [
        "data = list(sorted(gsp_info))\n",
        "df2 = pd.DataFrame(data, columns =['Word','Jaccard Sim',\"Shared Set\",'Gold Set','Pat Set'])"
      ],
      "metadata": {
        "id": "H6oHArsFhLXx"
      },
      "execution_count": null,
      "outputs": []
    },
    {
      "cell_type": "code",
      "source": [
        "df2.sort_values(by='Jaccard Sim', ascending =False)"
      ],
      "metadata": {
        "colab": {
          "base_uri": "https://localhost:8080/",
          "height": 467
        },
        "id": "T6dUql5AtiT3",
        "outputId": "ad29ec8a-6d31-41e6-b8cf-8c1f8b61268a"
      },
      "execution_count": null,
      "outputs": [
        {
          "output_type": "execute_result",
          "data": {
            "text/plain": [
              "            Word  Jaccard Sim  \\\n",
              "4095        quod     0.204819   \n",
              "4808         sum     0.204819   \n",
              "3047       modus     0.190476   \n",
              "3768      possum     0.190476   \n",
              "1485         ego     0.176471   \n",
              "...          ...          ...   \n",
              "3835    praesumo     0.000000   \n",
              "3836  praetempto     0.000000   \n",
              "3837   praetendo     0.000000   \n",
              "1643  explorator     0.000000   \n",
              "1314   digressus     0.000000   \n",
              "\n",
              "                                             Shared Set  \\\n",
              "4095  {ille, hic, res, et, non, tamen, quaero, ut, q...   \n",
              "4808  {ille, omnis, ego, et, non, bonus, quod, qui, ...   \n",
              "3047  {ille, res, et, non, liber, cum, quis, vos, si...   \n",
              "3768  {ille, hic, ipse, animus, et, non, tamen, qui,...   \n",
              "1485  {ille, res, et, non, tamen, ut, qui, quis, si,...   \n",
              "...                                                 ...   \n",
              "3835                                                 {}   \n",
              "3836                                                 {}   \n",
              "3837                                                 {}   \n",
              "1643                                                 {}   \n",
              "1314                                                 {}   \n",
              "\n",
              "                                               Gold Set  \\\n",
              "4095  (non, ego, cura, quis, tu, opus, et, poena, po...   \n",
              "4808  (tuus, ego, tu, facio, nullus, amor, ., causa,...   \n",
              "3047  (et, si, malum, amor, amicus, ille, licet, res...   \n",
              "3768  (non, si, cura, amicus, qui, et, carmen, mens,...   \n",
              "1485  (tu, possum, si, qui, non, amicus, opus, amor,...   \n",
              "...                                                 ...   \n",
              "3835  (conclamo, veniente, cereus, probitas, lucina,...   \n",
              "3836  (agricola, decles, orbus, acetus, fragilis, pu...   \n",
              "3837  (iuvenum, ratio, ora, odi, pecus, odium, iuven...   \n",
              "1643  (catullum, pertimuo, sergestus, percudro, favo...   \n",
              "1314  (recreo, iuturnus, nisus, cuncto, exoro, glauc...   \n",
              "\n",
              "                                                Pat Set  \n",
              "4095  (ut, se, ego, qui, is, et, cum, enim, tu, aute...  \n",
              "4808  (is, non, ipse, et, ego, jam, ille, qui, tu, h...  \n",
              "3047  (res, christianus, ab, debeo, quidam, qui, loc...  \n",
              "3768  (ille, is, ut, se, et, ego, vos, multus, qui, ...  \n",
              "1485  (tu, quod, hic, qui, et, is, ille, ut, cum, ta...  \n",
              "...                                                 ...  \n",
              "3835  (habeo, nec, iste, locus, nunc, scribo, quanto...  \n",
              "3836  (lugeo, conversatione, aptus, veluti, signific...  \n",
              "3837  (judicanti, nubilis, castellum, vocasti, 11, c...  \n",
              "1643  (cottidie, dono, nequaquam, purgo, magnitudo, ...  \n",
              "1314  (voto, praeveniebat, studio, fallaciter, affec...  \n",
              "\n",
              "[5742 rows x 5 columns]"
            ],
            "text/html": [
              "\n",
              "  <div id=\"df-66ea2268-ebca-4174-bbc8-1784eb66ebf1\">\n",
              "    <div class=\"colab-df-container\">\n",
              "      <div>\n",
              "<style scoped>\n",
              "    .dataframe tbody tr th:only-of-type {\n",
              "        vertical-align: middle;\n",
              "    }\n",
              "\n",
              "    .dataframe tbody tr th {\n",
              "        vertical-align: top;\n",
              "    }\n",
              "\n",
              "    .dataframe thead th {\n",
              "        text-align: right;\n",
              "    }\n",
              "</style>\n",
              "<table border=\"1\" class=\"dataframe\">\n",
              "  <thead>\n",
              "    <tr style=\"text-align: right;\">\n",
              "      <th></th>\n",
              "      <th>Word</th>\n",
              "      <th>Jaccard Sim</th>\n",
              "      <th>Shared Set</th>\n",
              "      <th>Gold Set</th>\n",
              "      <th>Pat Set</th>\n",
              "    </tr>\n",
              "  </thead>\n",
              "  <tbody>\n",
              "    <tr>\n",
              "      <th>4095</th>\n",
              "      <td>quod</td>\n",
              "      <td>0.204819</td>\n",
              "      <td>{ille, hic, res, et, non, tamen, quaero, ut, q...</td>\n",
              "      <td>(non, ego, cura, quis, tu, opus, et, poena, po...</td>\n",
              "      <td>(ut, se, ego, qui, is, et, cum, enim, tu, aute...</td>\n",
              "    </tr>\n",
              "    <tr>\n",
              "      <th>4808</th>\n",
              "      <td>sum</td>\n",
              "      <td>0.204819</td>\n",
              "      <td>{ille, omnis, ego, et, non, bonus, quod, qui, ...</td>\n",
              "      <td>(tuus, ego, tu, facio, nullus, amor, ., causa,...</td>\n",
              "      <td>(is, non, ipse, et, ego, jam, ille, qui, tu, h...</td>\n",
              "    </tr>\n",
              "    <tr>\n",
              "      <th>3047</th>\n",
              "      <td>modus</td>\n",
              "      <td>0.190476</td>\n",
              "      <td>{ille, res, et, non, liber, cum, quis, vos, si...</td>\n",
              "      <td>(et, si, malum, amor, amicus, ille, licet, res...</td>\n",
              "      <td>(res, christianus, ab, debeo, quidam, qui, loc...</td>\n",
              "    </tr>\n",
              "    <tr>\n",
              "      <th>3768</th>\n",
              "      <td>possum</td>\n",
              "      <td>0.190476</td>\n",
              "      <td>{ille, hic, ipse, animus, et, non, tamen, qui,...</td>\n",
              "      <td>(non, si, cura, amicus, qui, et, carmen, mens,...</td>\n",
              "      <td>(ille, is, ut, se, et, ego, vos, multus, qui, ...</td>\n",
              "    </tr>\n",
              "    <tr>\n",
              "      <th>1485</th>\n",
              "      <td>ego</td>\n",
              "      <td>0.176471</td>\n",
              "      <td>{ille, res, et, non, tamen, ut, qui, quis, si,...</td>\n",
              "      <td>(tu, possum, si, qui, non, amicus, opus, amor,...</td>\n",
              "      <td>(tu, quod, hic, qui, et, is, ille, ut, cum, ta...</td>\n",
              "    </tr>\n",
              "    <tr>\n",
              "      <th>...</th>\n",
              "      <td>...</td>\n",
              "      <td>...</td>\n",
              "      <td>...</td>\n",
              "      <td>...</td>\n",
              "      <td>...</td>\n",
              "    </tr>\n",
              "    <tr>\n",
              "      <th>3835</th>\n",
              "      <td>praesumo</td>\n",
              "      <td>0.000000</td>\n",
              "      <td>{}</td>\n",
              "      <td>(conclamo, veniente, cereus, probitas, lucina,...</td>\n",
              "      <td>(habeo, nec, iste, locus, nunc, scribo, quanto...</td>\n",
              "    </tr>\n",
              "    <tr>\n",
              "      <th>3836</th>\n",
              "      <td>praetempto</td>\n",
              "      <td>0.000000</td>\n",
              "      <td>{}</td>\n",
              "      <td>(agricola, decles, orbus, acetus, fragilis, pu...</td>\n",
              "      <td>(lugeo, conversatione, aptus, veluti, signific...</td>\n",
              "    </tr>\n",
              "    <tr>\n",
              "      <th>3837</th>\n",
              "      <td>praetendo</td>\n",
              "      <td>0.000000</td>\n",
              "      <td>{}</td>\n",
              "      <td>(iuvenum, ratio, ora, odi, pecus, odium, iuven...</td>\n",
              "      <td>(judicanti, nubilis, castellum, vocasti, 11, c...</td>\n",
              "    </tr>\n",
              "    <tr>\n",
              "      <th>1643</th>\n",
              "      <td>explorator</td>\n",
              "      <td>0.000000</td>\n",
              "      <td>{}</td>\n",
              "      <td>(catullum, pertimuo, sergestus, percudro, favo...</td>\n",
              "      <td>(cottidie, dono, nequaquam, purgo, magnitudo, ...</td>\n",
              "    </tr>\n",
              "    <tr>\n",
              "      <th>1314</th>\n",
              "      <td>digressus</td>\n",
              "      <td>0.000000</td>\n",
              "      <td>{}</td>\n",
              "      <td>(recreo, iuturnus, nisus, cuncto, exoro, glauc...</td>\n",
              "      <td>(voto, praeveniebat, studio, fallaciter, affec...</td>\n",
              "    </tr>\n",
              "  </tbody>\n",
              "</table>\n",
              "<p>5742 rows × 5 columns</p>\n",
              "</div>\n",
              "      <button class=\"colab-df-convert\" onclick=\"convertToInteractive('df-66ea2268-ebca-4174-bbc8-1784eb66ebf1')\"\n",
              "              title=\"Convert this dataframe to an interactive table.\"\n",
              "              style=\"display:none;\">\n",
              "        \n",
              "  <svg xmlns=\"http://www.w3.org/2000/svg\" height=\"24px\"viewBox=\"0 0 24 24\"\n",
              "       width=\"24px\">\n",
              "    <path d=\"M0 0h24v24H0V0z\" fill=\"none\"/>\n",
              "    <path d=\"M18.56 5.44l.94 2.06.94-2.06 2.06-.94-2.06-.94-.94-2.06-.94 2.06-2.06.94zm-11 1L8.5 8.5l.94-2.06 2.06-.94-2.06-.94L8.5 2.5l-.94 2.06-2.06.94zm10 10l.94 2.06.94-2.06 2.06-.94-2.06-.94-.94-2.06-.94 2.06-2.06.94z\"/><path d=\"M17.41 7.96l-1.37-1.37c-.4-.4-.92-.59-1.43-.59-.52 0-1.04.2-1.43.59L10.3 9.45l-7.72 7.72c-.78.78-.78 2.05 0 2.83L4 21.41c.39.39.9.59 1.41.59.51 0 1.02-.2 1.41-.59l7.78-7.78 2.81-2.81c.8-.78.8-2.07 0-2.86zM5.41 20L4 18.59l7.72-7.72 1.47 1.35L5.41 20z\"/>\n",
              "  </svg>\n",
              "      </button>\n",
              "      \n",
              "  <style>\n",
              "    .colab-df-container {\n",
              "      display:flex;\n",
              "      flex-wrap:wrap;\n",
              "      gap: 12px;\n",
              "    }\n",
              "\n",
              "    .colab-df-convert {\n",
              "      background-color: #E8F0FE;\n",
              "      border: none;\n",
              "      border-radius: 50%;\n",
              "      cursor: pointer;\n",
              "      display: none;\n",
              "      fill: #1967D2;\n",
              "      height: 32px;\n",
              "      padding: 0 0 0 0;\n",
              "      width: 32px;\n",
              "    }\n",
              "\n",
              "    .colab-df-convert:hover {\n",
              "      background-color: #E2EBFA;\n",
              "      box-shadow: 0px 1px 2px rgba(60, 64, 67, 0.3), 0px 1px 3px 1px rgba(60, 64, 67, 0.15);\n",
              "      fill: #174EA6;\n",
              "    }\n",
              "\n",
              "    [theme=dark] .colab-df-convert {\n",
              "      background-color: #3B4455;\n",
              "      fill: #D2E3FC;\n",
              "    }\n",
              "\n",
              "    [theme=dark] .colab-df-convert:hover {\n",
              "      background-color: #434B5C;\n",
              "      box-shadow: 0px 1px 3px 1px rgba(0, 0, 0, 0.15);\n",
              "      filter: drop-shadow(0px 1px 2px rgba(0, 0, 0, 0.3));\n",
              "      fill: #FFFFFF;\n",
              "    }\n",
              "  </style>\n",
              "\n",
              "      <script>\n",
              "        const buttonEl =\n",
              "          document.querySelector('#df-66ea2268-ebca-4174-bbc8-1784eb66ebf1 button.colab-df-convert');\n",
              "        buttonEl.style.display =\n",
              "          google.colab.kernel.accessAllowed ? 'block' : 'none';\n",
              "\n",
              "        async function convertToInteractive(key) {\n",
              "          const element = document.querySelector('#df-66ea2268-ebca-4174-bbc8-1784eb66ebf1');\n",
              "          const dataTable =\n",
              "            await google.colab.kernel.invokeFunction('convertToInteractive',\n",
              "                                                     [key], {});\n",
              "          if (!dataTable) return;\n",
              "\n",
              "          const docLinkHtml = 'Like what you see? Visit the ' +\n",
              "            '<a target=\"_blank\" href=https://colab.research.google.com/notebooks/data_table.ipynb>data table notebook</a>'\n",
              "            + ' to learn more about interactive tables.';\n",
              "          element.innerHTML = '';\n",
              "          dataTable['output_type'] = 'display_data';\n",
              "          await google.colab.output.renderOutput(dataTable, element);\n",
              "          const docLink = document.createElement('div');\n",
              "          docLink.innerHTML = docLinkHtml;\n",
              "          element.appendChild(docLink);\n",
              "        }\n",
              "      </script>\n",
              "    </div>\n",
              "  </div>\n",
              "  "
            ]
          },
          "metadata": {},
          "execution_count": 177
        }
      ]
    },
    {
      "cell_type": "code",
      "source": [
        "df2.loc[df2['Word']=='candidus']#[['Word','Jaccard Sim','Shared Set']]"
      ],
      "metadata": {
        "colab": {
          "base_uri": "https://localhost:8080/",
          "height": 80
        },
        "id": "RFdo33lrh78n",
        "outputId": "3e9bc435-5c78-486d-ccd9-b67dc951fd69"
      },
      "execution_count": null,
      "outputs": [
        {
          "output_type": "execute_result",
          "data": {
            "text/plain": [
              "         Word  Jaccard Sim             Shared Set  \\\n",
              "599  candidus     0.030928  {mos, annus, templum}   \n",
              "\n",
              "                                              Gold Set  \\\n",
              "599  (paruus, dux, mater, ager, annus, cum, malum, ...   \n",
              "\n",
              "                                               Pat Set  \n",
              "599  (templum, periculum, similis, fons, multo, fra...  "
            ],
            "text/html": [
              "\n",
              "  <div id=\"df-eff7e07c-3519-4275-9cc7-0aa38245e3d8\">\n",
              "    <div class=\"colab-df-container\">\n",
              "      <div>\n",
              "<style scoped>\n",
              "    .dataframe tbody tr th:only-of-type {\n",
              "        vertical-align: middle;\n",
              "    }\n",
              "\n",
              "    .dataframe tbody tr th {\n",
              "        vertical-align: top;\n",
              "    }\n",
              "\n",
              "    .dataframe thead th {\n",
              "        text-align: right;\n",
              "    }\n",
              "</style>\n",
              "<table border=\"1\" class=\"dataframe\">\n",
              "  <thead>\n",
              "    <tr style=\"text-align: right;\">\n",
              "      <th></th>\n",
              "      <th>Word</th>\n",
              "      <th>Jaccard Sim</th>\n",
              "      <th>Shared Set</th>\n",
              "      <th>Gold Set</th>\n",
              "      <th>Pat Set</th>\n",
              "    </tr>\n",
              "  </thead>\n",
              "  <tbody>\n",
              "    <tr>\n",
              "      <th>599</th>\n",
              "      <td>candidus</td>\n",
              "      <td>0.030928</td>\n",
              "      <td>{mos, annus, templum}</td>\n",
              "      <td>(paruus, dux, mater, ager, annus, cum, malum, ...</td>\n",
              "      <td>(templum, periculum, similis, fons, multo, fra...</td>\n",
              "    </tr>\n",
              "  </tbody>\n",
              "</table>\n",
              "</div>\n",
              "      <button class=\"colab-df-convert\" onclick=\"convertToInteractive('df-eff7e07c-3519-4275-9cc7-0aa38245e3d8')\"\n",
              "              title=\"Convert this dataframe to an interactive table.\"\n",
              "              style=\"display:none;\">\n",
              "        \n",
              "  <svg xmlns=\"http://www.w3.org/2000/svg\" height=\"24px\"viewBox=\"0 0 24 24\"\n",
              "       width=\"24px\">\n",
              "    <path d=\"M0 0h24v24H0V0z\" fill=\"none\"/>\n",
              "    <path d=\"M18.56 5.44l.94 2.06.94-2.06 2.06-.94-2.06-.94-.94-2.06-.94 2.06-2.06.94zm-11 1L8.5 8.5l.94-2.06 2.06-.94-2.06-.94L8.5 2.5l-.94 2.06-2.06.94zm10 10l.94 2.06.94-2.06 2.06-.94-2.06-.94-.94-2.06-.94 2.06-2.06.94z\"/><path d=\"M17.41 7.96l-1.37-1.37c-.4-.4-.92-.59-1.43-.59-.52 0-1.04.2-1.43.59L10.3 9.45l-7.72 7.72c-.78.78-.78 2.05 0 2.83L4 21.41c.39.39.9.59 1.41.59.51 0 1.02-.2 1.41-.59l7.78-7.78 2.81-2.81c.8-.78.8-2.07 0-2.86zM5.41 20L4 18.59l7.72-7.72 1.47 1.35L5.41 20z\"/>\n",
              "  </svg>\n",
              "      </button>\n",
              "      \n",
              "  <style>\n",
              "    .colab-df-container {\n",
              "      display:flex;\n",
              "      flex-wrap:wrap;\n",
              "      gap: 12px;\n",
              "    }\n",
              "\n",
              "    .colab-df-convert {\n",
              "      background-color: #E8F0FE;\n",
              "      border: none;\n",
              "      border-radius: 50%;\n",
              "      cursor: pointer;\n",
              "      display: none;\n",
              "      fill: #1967D2;\n",
              "      height: 32px;\n",
              "      padding: 0 0 0 0;\n",
              "      width: 32px;\n",
              "    }\n",
              "\n",
              "    .colab-df-convert:hover {\n",
              "      background-color: #E2EBFA;\n",
              "      box-shadow: 0px 1px 2px rgba(60, 64, 67, 0.3), 0px 1px 3px 1px rgba(60, 64, 67, 0.15);\n",
              "      fill: #174EA6;\n",
              "    }\n",
              "\n",
              "    [theme=dark] .colab-df-convert {\n",
              "      background-color: #3B4455;\n",
              "      fill: #D2E3FC;\n",
              "    }\n",
              "\n",
              "    [theme=dark] .colab-df-convert:hover {\n",
              "      background-color: #434B5C;\n",
              "      box-shadow: 0px 1px 3px 1px rgba(0, 0, 0, 0.15);\n",
              "      filter: drop-shadow(0px 1px 2px rgba(0, 0, 0, 0.3));\n",
              "      fill: #FFFFFF;\n",
              "    }\n",
              "  </style>\n",
              "\n",
              "      <script>\n",
              "        const buttonEl =\n",
              "          document.querySelector('#df-eff7e07c-3519-4275-9cc7-0aa38245e3d8 button.colab-df-convert');\n",
              "        buttonEl.style.display =\n",
              "          google.colab.kernel.accessAllowed ? 'block' : 'none';\n",
              "\n",
              "        async function convertToInteractive(key) {\n",
              "          const element = document.querySelector('#df-eff7e07c-3519-4275-9cc7-0aa38245e3d8');\n",
              "          const dataTable =\n",
              "            await google.colab.kernel.invokeFunction('convertToInteractive',\n",
              "                                                     [key], {});\n",
              "          if (!dataTable) return;\n",
              "\n",
              "          const docLinkHtml = 'Like what you see? Visit the ' +\n",
              "            '<a target=\"_blank\" href=https://colab.research.google.com/notebooks/data_table.ipynb>data table notebook</a>'\n",
              "            + ' to learn more about interactive tables.';\n",
              "          element.innerHTML = '';\n",
              "          dataTable['output_type'] = 'display_data';\n",
              "          await google.colab.output.renderOutput(dataTable, element);\n",
              "          const docLink = document.createElement('div');\n",
              "          docLink.innerHTML = docLinkHtml;\n",
              "          element.appendChild(docLink);\n",
              "        }\n",
              "      </script>\n",
              "    </div>\n",
              "  </div>\n",
              "  "
            ]
          },
          "metadata": {},
          "execution_count": 178
        }
      ]
    },
    {
      "cell_type": "code",
      "source": [
        "df2.loc[df2['Word']=='albus']#[['Word','Jaccard Sim','Shared Set']]"
      ],
      "metadata": {
        "id": "qMaSYwWljRRk",
        "outputId": "76432b2b-5310-4503-bee2-d3ce80b727da",
        "colab": {
          "base_uri": "https://localhost:8080/",
          "height": 211
        }
      },
      "execution_count": null,
      "outputs": [
        {
          "output_type": "execute_result",
          "data": {
            "text/plain": [
              "      Word  Jaccard Sim                       Shared Set  \\\n",
              "211  albus     0.052632  {puer, morior, suus, cum, gens}   \n",
              "\n",
              "                                                                                                                                                                                                                                                                                                                                           Gold Set  \\\n",
              "211  (caput, ipse, redeo, lego, relinquo, ager, durus, oculus, populus, pono, inque, equus, paruus, amicus, aio, puer, soleo, mollis, liber, cum, honor, malum, gens, ars, dexter, aqua, aer, fugio, rex, lingua, siue, dux, accipio, membrum, morior, pes, suus, ora, audio, ingens, duo, flumen, iam, auro, sumo, sacer, iubeo, armis, duco, mos)   \n",
              "\n",
              "                                                                                                                                                                                                                                                                                                                                                               Pat Set  \n",
              "211  (contineo, contra, nunc, puer, unde, nihil, de, multum, morior, natura, vita, potius, misericordia, sine, tam, sensus, damno, nomen, cum, utrum, scio, tunc, in, suus, itaque, animus, gens, pater, vitae, quidam, vero, solum, quanto, imago, tamquam, inde, tuus, usque, potestas, ut, materia, noster, patior, tantus, desum, prohibeo, quod, sed, ego, plane)  "
            ],
            "text/html": [
              "\n",
              "  <div id=\"df-83efe625-5abf-4cfe-886c-23c99a2f818b\">\n",
              "    <div class=\"colab-df-container\">\n",
              "      <div>\n",
              "<style scoped>\n",
              "    .dataframe tbody tr th:only-of-type {\n",
              "        vertical-align: middle;\n",
              "    }\n",
              "\n",
              "    .dataframe tbody tr th {\n",
              "        vertical-align: top;\n",
              "    }\n",
              "\n",
              "    .dataframe thead th {\n",
              "        text-align: right;\n",
              "    }\n",
              "</style>\n",
              "<table border=\"1\" class=\"dataframe\">\n",
              "  <thead>\n",
              "    <tr style=\"text-align: right;\">\n",
              "      <th></th>\n",
              "      <th>Word</th>\n",
              "      <th>Jaccard Sim</th>\n",
              "      <th>Shared Set</th>\n",
              "      <th>Gold Set</th>\n",
              "      <th>Pat Set</th>\n",
              "    </tr>\n",
              "  </thead>\n",
              "  <tbody>\n",
              "    <tr>\n",
              "      <th>211</th>\n",
              "      <td>albus</td>\n",
              "      <td>0.052632</td>\n",
              "      <td>{puer, morior, suus, cum, gens}</td>\n",
              "      <td>(caput, ipse, redeo, lego, relinquo, ager, durus, oculus, populus, pono, inque, equus, paruus, amicus, aio, puer, soleo, mollis, liber, cum, honor, malum, gens, ars, dexter, aqua, aer, fugio, rex, lingua, siue, dux, accipio, membrum, morior, pes, suus, ora, audio, ingens, duo, flumen, iam, auro, sumo, sacer, iubeo, armis, duco, mos)</td>\n",
              "      <td>(contineo, contra, nunc, puer, unde, nihil, de, multum, morior, natura, vita, potius, misericordia, sine, tam, sensus, damno, nomen, cum, utrum, scio, tunc, in, suus, itaque, animus, gens, pater, vitae, quidam, vero, solum, quanto, imago, tamquam, inde, tuus, usque, potestas, ut, materia, noster, patior, tantus, desum, prohibeo, quod, sed, ego, plane)</td>\n",
              "    </tr>\n",
              "  </tbody>\n",
              "</table>\n",
              "</div>\n",
              "      <button class=\"colab-df-convert\" onclick=\"convertToInteractive('df-83efe625-5abf-4cfe-886c-23c99a2f818b')\"\n",
              "              title=\"Convert this dataframe to an interactive table.\"\n",
              "              style=\"display:none;\">\n",
              "        \n",
              "  <svg xmlns=\"http://www.w3.org/2000/svg\" height=\"24px\"viewBox=\"0 0 24 24\"\n",
              "       width=\"24px\">\n",
              "    <path d=\"M0 0h24v24H0V0z\" fill=\"none\"/>\n",
              "    <path d=\"M18.56 5.44l.94 2.06.94-2.06 2.06-.94-2.06-.94-.94-2.06-.94 2.06-2.06.94zm-11 1L8.5 8.5l.94-2.06 2.06-.94-2.06-.94L8.5 2.5l-.94 2.06-2.06.94zm10 10l.94 2.06.94-2.06 2.06-.94-2.06-.94-.94-2.06-.94 2.06-2.06.94z\"/><path d=\"M17.41 7.96l-1.37-1.37c-.4-.4-.92-.59-1.43-.59-.52 0-1.04.2-1.43.59L10.3 9.45l-7.72 7.72c-.78.78-.78 2.05 0 2.83L4 21.41c.39.39.9.59 1.41.59.51 0 1.02-.2 1.41-.59l7.78-7.78 2.81-2.81c.8-.78.8-2.07 0-2.86zM5.41 20L4 18.59l7.72-7.72 1.47 1.35L5.41 20z\"/>\n",
              "  </svg>\n",
              "      </button>\n",
              "      \n",
              "  <style>\n",
              "    .colab-df-container {\n",
              "      display:flex;\n",
              "      flex-wrap:wrap;\n",
              "      gap: 12px;\n",
              "    }\n",
              "\n",
              "    .colab-df-convert {\n",
              "      background-color: #E8F0FE;\n",
              "      border: none;\n",
              "      border-radius: 50%;\n",
              "      cursor: pointer;\n",
              "      display: none;\n",
              "      fill: #1967D2;\n",
              "      height: 32px;\n",
              "      padding: 0 0 0 0;\n",
              "      width: 32px;\n",
              "    }\n",
              "\n",
              "    .colab-df-convert:hover {\n",
              "      background-color: #E2EBFA;\n",
              "      box-shadow: 0px 1px 2px rgba(60, 64, 67, 0.3), 0px 1px 3px 1px rgba(60, 64, 67, 0.15);\n",
              "      fill: #174EA6;\n",
              "    }\n",
              "\n",
              "    [theme=dark] .colab-df-convert {\n",
              "      background-color: #3B4455;\n",
              "      fill: #D2E3FC;\n",
              "    }\n",
              "\n",
              "    [theme=dark] .colab-df-convert:hover {\n",
              "      background-color: #434B5C;\n",
              "      box-shadow: 0px 1px 3px 1px rgba(0, 0, 0, 0.15);\n",
              "      filter: drop-shadow(0px 1px 2px rgba(0, 0, 0, 0.3));\n",
              "      fill: #FFFFFF;\n",
              "    }\n",
              "  </style>\n",
              "\n",
              "      <script>\n",
              "        const buttonEl =\n",
              "          document.querySelector('#df-83efe625-5abf-4cfe-886c-23c99a2f818b button.colab-df-convert');\n",
              "        buttonEl.style.display =\n",
              "          google.colab.kernel.accessAllowed ? 'block' : 'none';\n",
              "\n",
              "        async function convertToInteractive(key) {\n",
              "          const element = document.querySelector('#df-83efe625-5abf-4cfe-886c-23c99a2f818b');\n",
              "          const dataTable =\n",
              "            await google.colab.kernel.invokeFunction('convertToInteractive',\n",
              "                                                     [key], {});\n",
              "          if (!dataTable) return;\n",
              "\n",
              "          const docLinkHtml = 'Like what you see? Visit the ' +\n",
              "            '<a target=\"_blank\" href=https://colab.research.google.com/notebooks/data_table.ipynb>data table notebook</a>'\n",
              "            + ' to learn more about interactive tables.';\n",
              "          element.innerHTML = '';\n",
              "          dataTable['output_type'] = 'display_data';\n",
              "          await google.colab.output.renderOutput(dataTable, element);\n",
              "          const docLink = document.createElement('div');\n",
              "          docLink.innerHTML = docLinkHtml;\n",
              "          element.appendChild(docLink);\n",
              "        }\n",
              "      </script>\n",
              "    </div>\n",
              "  </div>\n",
              "  "
            ]
          },
          "metadata": {},
          "execution_count": 208
        }
      ]
    },
    {
      "cell_type": "markdown",
      "source": [
        "##Silver to Pat"
      ],
      "metadata": {
        "id": "LTZqiMr4IYeW"
      }
    },
    {
      "cell_type": "code",
      "source": [
        "sp_info = []\n",
        "\n",
        "for x in silver_voc: \n",
        "    if x in pat_voc:\n",
        "      w1 = sil_model.wv.most_similar(x, topn=50)\n",
        "      w2 = pat_model.wv.most_similar(x, topn=50)\n",
        "      sim = j_sim(w1,w2)\n",
        "      topsil = list(zip(*w1))[0] \n",
        "      toppat = list(zip(*w2))[0]\n",
        "      intersect = set(topsil).intersection(set(toppat))\n",
        "      sp_info.append((x,sim,intersect,topsil,toppat))"
      ],
      "metadata": {
        "id": "gUNlMNLgIXoE"
      },
      "execution_count": null,
      "outputs": []
    },
    {
      "cell_type": "code",
      "source": [
        "data = list(sorted(sp_info))\n",
        "df3 = pd.DataFrame(data, columns =['Word','Jaccard Sim',\"Shared Set\",'Silver Set','Pat Set'])"
      ],
      "metadata": {
        "id": "NpmP9VjfItjH"
      },
      "execution_count": null,
      "outputs": []
    },
    {
      "cell_type": "code",
      "source": [
        "df3.sort_values(by='Jaccard Sim', ascending =False).head(1)"
      ],
      "metadata": {
        "colab": {
          "base_uri": "https://localhost:8080/",
          "height": 229
        },
        "outputId": "3e388f08-7c23-40e6-961d-0b9de8c7852a",
        "id": "k4hE6flCJFF-"
      },
      "execution_count": null,
      "outputs": [
        {
          "output_type": "execute_result",
          "data": {
            "text/plain": [
              "      Word  Jaccard Sim  \\\n",
              "1879  dico     0.234568   \n",
              "\n",
              "                                                                                                              Shared Set  \\\n",
              "1879  {ille, debeo, quaero, ut, puto, scio, enim, si, tu, talis, hic, ego, credo, non, quis, qui, nihil, loquor, possum}   \n",
              "\n",
              "                                                                                                                                                                                                                                                                                                                                                               Silver Set  \\\n",
              "1879  (inquam, scio, possum, tu, credo, ego, satis, beatus, ille, debeo, sapiens, modus, puto, par, necesse, ratio, nihil, irascor, ira, non, enim, quaero, patior, dignus, amicus, miser, turpis, verum, animal, contineo, qui, si, vis, hic, quis, stultus, talis, quod, ut, facio, nemo, timeo, sententia, loquor, honestus, difficilis, nego, itaque, bene, iniurius)   \n",
              "\n",
              "                                                                                                                                                                                                                                                                                                               Pat Set  \n",
              "1879  (ego, se, hic, et, si, is, ille, ipse, enim, jam, sicut, credo, cum, quaero, nihil, puto, autem, qui, loquor, iste, ibi, tu, intellego, possum, audio, in, non, alius, quis, nescio, ut, nunc, sum, debeo, quia, habeo, scio, talis, ad, tunc, nos, causa, tamen, multus, nolo, bonus, quidam, ab, homo, quando)  "
            ],
            "text/html": [
              "\n",
              "  <div id=\"df-53a02dab-5941-4213-b1f4-a16e5cb67d21\">\n",
              "    <div class=\"colab-df-container\">\n",
              "      <div>\n",
              "<style scoped>\n",
              "    .dataframe tbody tr th:only-of-type {\n",
              "        vertical-align: middle;\n",
              "    }\n",
              "\n",
              "    .dataframe tbody tr th {\n",
              "        vertical-align: top;\n",
              "    }\n",
              "\n",
              "    .dataframe thead th {\n",
              "        text-align: right;\n",
              "    }\n",
              "</style>\n",
              "<table border=\"1\" class=\"dataframe\">\n",
              "  <thead>\n",
              "    <tr style=\"text-align: right;\">\n",
              "      <th></th>\n",
              "      <th>Word</th>\n",
              "      <th>Jaccard Sim</th>\n",
              "      <th>Shared Set</th>\n",
              "      <th>Silver Set</th>\n",
              "      <th>Pat Set</th>\n",
              "    </tr>\n",
              "  </thead>\n",
              "  <tbody>\n",
              "    <tr>\n",
              "      <th>1879</th>\n",
              "      <td>dico</td>\n",
              "      <td>0.234568</td>\n",
              "      <td>{ille, debeo, quaero, ut, puto, scio, enim, si, tu, talis, hic, ego, credo, non, quis, qui, nihil, loquor, possum}</td>\n",
              "      <td>(inquam, scio, possum, tu, credo, ego, satis, beatus, ille, debeo, sapiens, modus, puto, par, necesse, ratio, nihil, irascor, ira, non, enim, quaero, patior, dignus, amicus, miser, turpis, verum, animal, contineo, qui, si, vis, hic, quis, stultus, talis, quod, ut, facio, nemo, timeo, sententia, loquor, honestus, difficilis, nego, itaque, bene, iniurius)</td>\n",
              "      <td>(ego, se, hic, et, si, is, ille, ipse, enim, jam, sicut, credo, cum, quaero, nihil, puto, autem, qui, loquor, iste, ibi, tu, intellego, possum, audio, in, non, alius, quis, nescio, ut, nunc, sum, debeo, quia, habeo, scio, talis, ad, tunc, nos, causa, tamen, multus, nolo, bonus, quidam, ab, homo, quando)</td>\n",
              "    </tr>\n",
              "  </tbody>\n",
              "</table>\n",
              "</div>\n",
              "      <button class=\"colab-df-convert\" onclick=\"convertToInteractive('df-53a02dab-5941-4213-b1f4-a16e5cb67d21')\"\n",
              "              title=\"Convert this dataframe to an interactive table.\"\n",
              "              style=\"display:none;\">\n",
              "        \n",
              "  <svg xmlns=\"http://www.w3.org/2000/svg\" height=\"24px\"viewBox=\"0 0 24 24\"\n",
              "       width=\"24px\">\n",
              "    <path d=\"M0 0h24v24H0V0z\" fill=\"none\"/>\n",
              "    <path d=\"M18.56 5.44l.94 2.06.94-2.06 2.06-.94-2.06-.94-.94-2.06-.94 2.06-2.06.94zm-11 1L8.5 8.5l.94-2.06 2.06-.94-2.06-.94L8.5 2.5l-.94 2.06-2.06.94zm10 10l.94 2.06.94-2.06 2.06-.94-2.06-.94-.94-2.06-.94 2.06-2.06.94z\"/><path d=\"M17.41 7.96l-1.37-1.37c-.4-.4-.92-.59-1.43-.59-.52 0-1.04.2-1.43.59L10.3 9.45l-7.72 7.72c-.78.78-.78 2.05 0 2.83L4 21.41c.39.39.9.59 1.41.59.51 0 1.02-.2 1.41-.59l7.78-7.78 2.81-2.81c.8-.78.8-2.07 0-2.86zM5.41 20L4 18.59l7.72-7.72 1.47 1.35L5.41 20z\"/>\n",
              "  </svg>\n",
              "      </button>\n",
              "      \n",
              "  <style>\n",
              "    .colab-df-container {\n",
              "      display:flex;\n",
              "      flex-wrap:wrap;\n",
              "      gap: 12px;\n",
              "    }\n",
              "\n",
              "    .colab-df-convert {\n",
              "      background-color: #E8F0FE;\n",
              "      border: none;\n",
              "      border-radius: 50%;\n",
              "      cursor: pointer;\n",
              "      display: none;\n",
              "      fill: #1967D2;\n",
              "      height: 32px;\n",
              "      padding: 0 0 0 0;\n",
              "      width: 32px;\n",
              "    }\n",
              "\n",
              "    .colab-df-convert:hover {\n",
              "      background-color: #E2EBFA;\n",
              "      box-shadow: 0px 1px 2px rgba(60, 64, 67, 0.3), 0px 1px 3px 1px rgba(60, 64, 67, 0.15);\n",
              "      fill: #174EA6;\n",
              "    }\n",
              "\n",
              "    [theme=dark] .colab-df-convert {\n",
              "      background-color: #3B4455;\n",
              "      fill: #D2E3FC;\n",
              "    }\n",
              "\n",
              "    [theme=dark] .colab-df-convert:hover {\n",
              "      background-color: #434B5C;\n",
              "      box-shadow: 0px 1px 3px 1px rgba(0, 0, 0, 0.15);\n",
              "      filter: drop-shadow(0px 1px 2px rgba(0, 0, 0, 0.3));\n",
              "      fill: #FFFFFF;\n",
              "    }\n",
              "  </style>\n",
              "\n",
              "      <script>\n",
              "        const buttonEl =\n",
              "          document.querySelector('#df-53a02dab-5941-4213-b1f4-a16e5cb67d21 button.colab-df-convert');\n",
              "        buttonEl.style.display =\n",
              "          google.colab.kernel.accessAllowed ? 'block' : 'none';\n",
              "\n",
              "        async function convertToInteractive(key) {\n",
              "          const element = document.querySelector('#df-53a02dab-5941-4213-b1f4-a16e5cb67d21');\n",
              "          const dataTable =\n",
              "            await google.colab.kernel.invokeFunction('convertToInteractive',\n",
              "                                                     [key], {});\n",
              "          if (!dataTable) return;\n",
              "\n",
              "          const docLinkHtml = 'Like what you see? Visit the ' +\n",
              "            '<a target=\"_blank\" href=https://colab.research.google.com/notebooks/data_table.ipynb>data table notebook</a>'\n",
              "            + ' to learn more about interactive tables.';\n",
              "          element.innerHTML = '';\n",
              "          dataTable['output_type'] = 'display_data';\n",
              "          await google.colab.output.renderOutput(dataTable, element);\n",
              "          const docLink = document.createElement('div');\n",
              "          docLink.innerHTML = docLinkHtml;\n",
              "          element.appendChild(docLink);\n",
              "        }\n",
              "      </script>\n",
              "    </div>\n",
              "  </div>\n",
              "  "
            ]
          },
          "metadata": {},
          "execution_count": 229
        }
      ]
    },
    {
      "cell_type": "code",
      "source": [
        "df3.loc[df3['Word']=='dico']#[['Word','Jaccard Sim','Shared Set']]"
      ],
      "metadata": {
        "colab": {
          "base_uri": "https://localhost:8080/",
          "height": 229
        },
        "id": "HTsDpiP3KW4M",
        "outputId": "3151e68c-cf23-4efd-bef7-e8c81bc00195"
      },
      "execution_count": null,
      "outputs": [
        {
          "output_type": "execute_result",
          "data": {
            "text/plain": [
              "      Word  Jaccard Sim  \\\n",
              "1879  dico     0.234568   \n",
              "\n",
              "                                                                                                              Shared Set  \\\n",
              "1879  {ille, debeo, quaero, ut, puto, scio, enim, si, tu, talis, hic, ego, credo, non, quis, qui, nihil, loquor, possum}   \n",
              "\n",
              "                                                                                                                                                                                                                                                                                                                                                               Silver Set  \\\n",
              "1879  (inquam, scio, possum, tu, credo, ego, satis, beatus, ille, debeo, sapiens, modus, puto, par, necesse, ratio, nihil, irascor, ira, non, enim, quaero, patior, dignus, amicus, miser, turpis, verum, animal, contineo, qui, si, vis, hic, quis, stultus, talis, quod, ut, facio, nemo, timeo, sententia, loquor, honestus, difficilis, nego, itaque, bene, iniurius)   \n",
              "\n",
              "                                                                                                                                                                                                                                                                                                               Pat Set  \n",
              "1879  (ego, se, hic, et, si, is, ille, ipse, enim, jam, sicut, credo, cum, quaero, nihil, puto, autem, qui, loquor, iste, ibi, tu, intellego, possum, audio, in, non, alius, quis, nescio, ut, nunc, sum, debeo, quia, habeo, scio, talis, ad, tunc, nos, causa, tamen, multus, nolo, bonus, quidam, ab, homo, quando)  "
            ],
            "text/html": [
              "\n",
              "  <div id=\"df-85779a24-c19f-4e2a-a278-3bded55acfe6\">\n",
              "    <div class=\"colab-df-container\">\n",
              "      <div>\n",
              "<style scoped>\n",
              "    .dataframe tbody tr th:only-of-type {\n",
              "        vertical-align: middle;\n",
              "    }\n",
              "\n",
              "    .dataframe tbody tr th {\n",
              "        vertical-align: top;\n",
              "    }\n",
              "\n",
              "    .dataframe thead th {\n",
              "        text-align: right;\n",
              "    }\n",
              "</style>\n",
              "<table border=\"1\" class=\"dataframe\">\n",
              "  <thead>\n",
              "    <tr style=\"text-align: right;\">\n",
              "      <th></th>\n",
              "      <th>Word</th>\n",
              "      <th>Jaccard Sim</th>\n",
              "      <th>Shared Set</th>\n",
              "      <th>Silver Set</th>\n",
              "      <th>Pat Set</th>\n",
              "    </tr>\n",
              "  </thead>\n",
              "  <tbody>\n",
              "    <tr>\n",
              "      <th>1879</th>\n",
              "      <td>dico</td>\n",
              "      <td>0.234568</td>\n",
              "      <td>{ille, debeo, quaero, ut, puto, scio, enim, si, tu, talis, hic, ego, credo, non, quis, qui, nihil, loquor, possum}</td>\n",
              "      <td>(inquam, scio, possum, tu, credo, ego, satis, beatus, ille, debeo, sapiens, modus, puto, par, necesse, ratio, nihil, irascor, ira, non, enim, quaero, patior, dignus, amicus, miser, turpis, verum, animal, contineo, qui, si, vis, hic, quis, stultus, talis, quod, ut, facio, nemo, timeo, sententia, loquor, honestus, difficilis, nego, itaque, bene, iniurius)</td>\n",
              "      <td>(ego, se, hic, et, si, is, ille, ipse, enim, jam, sicut, credo, cum, quaero, nihil, puto, autem, qui, loquor, iste, ibi, tu, intellego, possum, audio, in, non, alius, quis, nescio, ut, nunc, sum, debeo, quia, habeo, scio, talis, ad, tunc, nos, causa, tamen, multus, nolo, bonus, quidam, ab, homo, quando)</td>\n",
              "    </tr>\n",
              "  </tbody>\n",
              "</table>\n",
              "</div>\n",
              "      <button class=\"colab-df-convert\" onclick=\"convertToInteractive('df-85779a24-c19f-4e2a-a278-3bded55acfe6')\"\n",
              "              title=\"Convert this dataframe to an interactive table.\"\n",
              "              style=\"display:none;\">\n",
              "        \n",
              "  <svg xmlns=\"http://www.w3.org/2000/svg\" height=\"24px\"viewBox=\"0 0 24 24\"\n",
              "       width=\"24px\">\n",
              "    <path d=\"M0 0h24v24H0V0z\" fill=\"none\"/>\n",
              "    <path d=\"M18.56 5.44l.94 2.06.94-2.06 2.06-.94-2.06-.94-.94-2.06-.94 2.06-2.06.94zm-11 1L8.5 8.5l.94-2.06 2.06-.94-2.06-.94L8.5 2.5l-.94 2.06-2.06.94zm10 10l.94 2.06.94-2.06 2.06-.94-2.06-.94-.94-2.06-.94 2.06-2.06.94z\"/><path d=\"M17.41 7.96l-1.37-1.37c-.4-.4-.92-.59-1.43-.59-.52 0-1.04.2-1.43.59L10.3 9.45l-7.72 7.72c-.78.78-.78 2.05 0 2.83L4 21.41c.39.39.9.59 1.41.59.51 0 1.02-.2 1.41-.59l7.78-7.78 2.81-2.81c.8-.78.8-2.07 0-2.86zM5.41 20L4 18.59l7.72-7.72 1.47 1.35L5.41 20z\"/>\n",
              "  </svg>\n",
              "      </button>\n",
              "      \n",
              "  <style>\n",
              "    .colab-df-container {\n",
              "      display:flex;\n",
              "      flex-wrap:wrap;\n",
              "      gap: 12px;\n",
              "    }\n",
              "\n",
              "    .colab-df-convert {\n",
              "      background-color: #E8F0FE;\n",
              "      border: none;\n",
              "      border-radius: 50%;\n",
              "      cursor: pointer;\n",
              "      display: none;\n",
              "      fill: #1967D2;\n",
              "      height: 32px;\n",
              "      padding: 0 0 0 0;\n",
              "      width: 32px;\n",
              "    }\n",
              "\n",
              "    .colab-df-convert:hover {\n",
              "      background-color: #E2EBFA;\n",
              "      box-shadow: 0px 1px 2px rgba(60, 64, 67, 0.3), 0px 1px 3px 1px rgba(60, 64, 67, 0.15);\n",
              "      fill: #174EA6;\n",
              "    }\n",
              "\n",
              "    [theme=dark] .colab-df-convert {\n",
              "      background-color: #3B4455;\n",
              "      fill: #D2E3FC;\n",
              "    }\n",
              "\n",
              "    [theme=dark] .colab-df-convert:hover {\n",
              "      background-color: #434B5C;\n",
              "      box-shadow: 0px 1px 3px 1px rgba(0, 0, 0, 0.15);\n",
              "      filter: drop-shadow(0px 1px 2px rgba(0, 0, 0, 0.3));\n",
              "      fill: #FFFFFF;\n",
              "    }\n",
              "  </style>\n",
              "\n",
              "      <script>\n",
              "        const buttonEl =\n",
              "          document.querySelector('#df-85779a24-c19f-4e2a-a278-3bded55acfe6 button.colab-df-convert');\n",
              "        buttonEl.style.display =\n",
              "          google.colab.kernel.accessAllowed ? 'block' : 'none';\n",
              "\n",
              "        async function convertToInteractive(key) {\n",
              "          const element = document.querySelector('#df-85779a24-c19f-4e2a-a278-3bded55acfe6');\n",
              "          const dataTable =\n",
              "            await google.colab.kernel.invokeFunction('convertToInteractive',\n",
              "                                                     [key], {});\n",
              "          if (!dataTable) return;\n",
              "\n",
              "          const docLinkHtml = 'Like what you see? Visit the ' +\n",
              "            '<a target=\"_blank\" href=https://colab.research.google.com/notebooks/data_table.ipynb>data table notebook</a>'\n",
              "            + ' to learn more about interactive tables.';\n",
              "          element.innerHTML = '';\n",
              "          dataTable['output_type'] = 'display_data';\n",
              "          await google.colab.output.renderOutput(dataTable, element);\n",
              "          const docLink = document.createElement('div');\n",
              "          docLink.innerHTML = docLinkHtml;\n",
              "          element.appendChild(docLink);\n",
              "        }\n",
              "      </script>\n",
              "    </div>\n",
              "  </div>\n",
              "  "
            ]
          },
          "metadata": {},
          "execution_count": 238
        }
      ]
    }
  ]
}